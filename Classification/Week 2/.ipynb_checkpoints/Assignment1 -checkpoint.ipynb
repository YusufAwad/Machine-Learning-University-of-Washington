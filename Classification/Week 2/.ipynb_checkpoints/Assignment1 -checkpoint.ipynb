{
 "cells": [
  {
   "cell_type": "code",
   "execution_count": 8,
   "metadata": {},
   "outputs": [],
   "source": [
    "import pandas as pd\n",
    "import numpy as np\n",
    "import string"
   ]
  },
  {
   "cell_type": "code",
   "execution_count": 9,
   "metadata": {},
   "outputs": [],
   "source": [
    "products = pd.read_csv('amazon_baby_subset.csv')"
   ]
  },
  {
   "cell_type": "code",
   "execution_count": 10,
   "metadata": {},
   "outputs": [
    {
     "data": {
      "text/plain": [
       "array([\"Stop Pacifier Sucking without tears with Thumbuddy To Love's Binky Fairy Puppet and Adorable Book\",\n",
       "       \"Nature's Lullabies Second Year Sticker Calendar\",\n",
       "       \"Nature's Lullabies Second Year Sticker Calendar\",\n",
       "       'Lamaze Peekaboo, I Love You',\n",
       "       \"SoftPlay Peek-A-Boo Where's Elmo A Children's Book\",\n",
       "       'Our Baby Girl Memory Book',\n",
       "       'Hunnt&reg; Falling Flowers and Birds Kids Nursery Home Decor Vinyl Mural Art Wall Paper Stickers',\n",
       "       'Blessed By Pope Benedict XVI Divine Mercy Full Color Medal',\n",
       "       'Cloth Diaper Pins Stainless Steel Traditional Safety Pin (Black)',\n",
       "       'Cloth Diaper Pins Stainless Steel Traditional Safety Pin (Black)'],\n",
       "      dtype=object)"
      ]
     },
     "execution_count": 10,
     "metadata": {},
     "output_type": "execute_result"
    }
   ],
   "source": [
    "products['name'].head(10).values"
   ]
  },
  {
   "cell_type": "code",
   "execution_count": 11,
   "metadata": {},
   "outputs": [
    {
     "data": {
      "text/plain": [
       "array(['name', 'review', 'rating', 'sentiment'], dtype=object)"
      ]
     },
     "execution_count": 11,
     "metadata": {},
     "output_type": "execute_result"
    }
   ],
   "source": [
    "products.columns.values"
   ]
  },
  {
   "cell_type": "code",
   "execution_count": 12,
   "metadata": {},
   "outputs": [],
   "source": [
    "def remove_punctuation(text):\n",
    "    table = str.maketrans({key: None for key in string.punctuation})\n",
    "    return text.translate(table) "
   ]
  },
  {
   "cell_type": "code",
   "execution_count": 13,
   "metadata": {},
   "outputs": [],
   "source": [
    "products = products.fillna({'review':''})"
   ]
  },
  {
   "cell_type": "code",
   "execution_count": 14,
   "metadata": {},
   "outputs": [],
   "source": [
    "products['review_clean'] = products['review'].apply(remove_punctuation)"
   ]
  },
  {
   "cell_type": "code",
   "execution_count": 15,
   "metadata": {},
   "outputs": [],
   "source": [
    "important_words = pd.read_json('important_words.json')"
   ]
  },
  {
   "cell_type": "code",
   "execution_count": 16,
   "metadata": {},
   "outputs": [],
   "source": [
    "important_words = important_words[0].tolist()"
   ]
  },
  {
   "cell_type": "code",
   "execution_count": 17,
   "metadata": {},
   "outputs": [
    {
     "data": {
      "text/plain": [
       "['baby',\n",
       " 'one',\n",
       " 'great',\n",
       " 'love',\n",
       " 'use',\n",
       " 'would',\n",
       " 'like',\n",
       " 'easy',\n",
       " 'little',\n",
       " 'seat',\n",
       " 'old',\n",
       " 'well',\n",
       " 'get',\n",
       " 'also',\n",
       " 'really',\n",
       " 'son',\n",
       " 'time',\n",
       " 'bought',\n",
       " 'product',\n",
       " 'good',\n",
       " 'daughter',\n",
       " 'much',\n",
       " 'loves',\n",
       " 'stroller',\n",
       " 'put',\n",
       " 'months',\n",
       " 'car',\n",
       " 'still',\n",
       " 'back',\n",
       " 'used',\n",
       " 'recommend',\n",
       " 'first',\n",
       " 'even',\n",
       " 'perfect',\n",
       " 'nice',\n",
       " 'bag',\n",
       " 'two',\n",
       " 'using',\n",
       " 'got',\n",
       " 'fit',\n",
       " 'around',\n",
       " 'diaper',\n",
       " 'enough',\n",
       " 'month',\n",
       " 'price',\n",
       " 'go',\n",
       " 'could',\n",
       " 'soft',\n",
       " 'since',\n",
       " 'buy',\n",
       " 'room',\n",
       " 'works',\n",
       " 'made',\n",
       " 'child',\n",
       " 'keep',\n",
       " 'size',\n",
       " 'small',\n",
       " 'need',\n",
       " 'year',\n",
       " 'big',\n",
       " 'make',\n",
       " 'take',\n",
       " 'easily',\n",
       " 'think',\n",
       " 'crib',\n",
       " 'clean',\n",
       " 'way',\n",
       " 'quality',\n",
       " 'thing',\n",
       " 'better',\n",
       " 'without',\n",
       " 'set',\n",
       " 'new',\n",
       " 'every',\n",
       " 'cute',\n",
       " 'best',\n",
       " 'bottles',\n",
       " 'work',\n",
       " 'purchased',\n",
       " 'right',\n",
       " 'lot',\n",
       " 'side',\n",
       " 'happy',\n",
       " 'comfortable',\n",
       " 'toy',\n",
       " 'able',\n",
       " 'kids',\n",
       " 'bit',\n",
       " 'night',\n",
       " 'long',\n",
       " 'fits',\n",
       " 'see',\n",
       " 'us',\n",
       " 'another',\n",
       " 'play',\n",
       " 'day',\n",
       " 'money',\n",
       " 'monitor',\n",
       " 'tried',\n",
       " 'thought',\n",
       " 'never',\n",
       " 'item',\n",
       " 'hard',\n",
       " 'plastic',\n",
       " 'however',\n",
       " 'disappointed',\n",
       " 'reviews',\n",
       " 'something',\n",
       " 'going',\n",
       " 'pump',\n",
       " 'bottle',\n",
       " 'cup',\n",
       " 'waste',\n",
       " 'return',\n",
       " 'amazon',\n",
       " 'different',\n",
       " 'top',\n",
       " 'want',\n",
       " 'problem',\n",
       " 'know',\n",
       " 'water',\n",
       " 'try',\n",
       " 'received',\n",
       " 'sure',\n",
       " 'times',\n",
       " 'chair',\n",
       " 'find',\n",
       " 'hold',\n",
       " 'gate',\n",
       " 'open',\n",
       " 'bottom',\n",
       " 'away',\n",
       " 'actually',\n",
       " 'cheap',\n",
       " 'worked',\n",
       " 'getting',\n",
       " 'ordered',\n",
       " 'came',\n",
       " 'milk',\n",
       " 'bad',\n",
       " 'part',\n",
       " 'worth',\n",
       " 'found',\n",
       " 'cover',\n",
       " 'many',\n",
       " 'design',\n",
       " 'looking',\n",
       " 'weeks',\n",
       " 'say',\n",
       " 'wanted',\n",
       " 'look',\n",
       " 'place',\n",
       " 'purchase',\n",
       " 'looks',\n",
       " 'second',\n",
       " 'piece',\n",
       " 'box',\n",
       " 'pretty',\n",
       " 'trying',\n",
       " 'difficult',\n",
       " 'together',\n",
       " 'though',\n",
       " 'give',\n",
       " 'started',\n",
       " 'anything',\n",
       " 'last',\n",
       " 'company',\n",
       " 'come',\n",
       " 'returned',\n",
       " 'maybe',\n",
       " 'took',\n",
       " 'broke',\n",
       " 'makes',\n",
       " 'stay',\n",
       " 'instead',\n",
       " 'idea',\n",
       " 'head',\n",
       " 'said',\n",
       " 'less',\n",
       " 'went',\n",
       " 'working',\n",
       " 'high',\n",
       " 'unit',\n",
       " 'seems',\n",
       " 'picture',\n",
       " 'completely',\n",
       " 'wish',\n",
       " 'buying',\n",
       " 'babies',\n",
       " 'won',\n",
       " 'tub',\n",
       " 'almost',\n",
       " 'either']"
      ]
     },
     "execution_count": 17,
     "metadata": {},
     "output_type": "execute_result"
    }
   ],
   "source": [
    "important_words"
   ]
  },
  {
   "cell_type": "code",
   "execution_count": 18,
   "metadata": {},
   "outputs": [],
   "source": [
    "for word in important_words:\n",
    "    products[word] = products['review_clean'].apply(lambda s : s.split().count(word))"
   ]
  },
  {
   "cell_type": "code",
   "execution_count": 19,
   "metadata": {},
   "outputs": [
    {
     "data": {
      "text/plain": [
       "array(['name', 'review', 'rating', 'sentiment', 'review_clean', 'baby',\n",
       "       'one', 'great', 'love', 'use', 'would', 'like', 'easy', 'little',\n",
       "       'seat', 'old', 'well', 'get', 'also', 'really', 'son', 'time',\n",
       "       'bought', 'product', 'good', 'daughter', 'much', 'loves',\n",
       "       'stroller', 'put', 'months', 'car', 'still', 'back', 'used',\n",
       "       'recommend', 'first', 'even', 'perfect', 'nice', 'bag', 'two',\n",
       "       'using', 'got', 'fit', 'around', 'diaper', 'enough', 'month',\n",
       "       'price', 'go', 'could', 'soft', 'since', 'buy', 'room', 'works',\n",
       "       'made', 'child', 'keep', 'size', 'small', 'need', 'year', 'big',\n",
       "       'make', 'take', 'easily', 'think', 'crib', 'clean', 'way',\n",
       "       'quality', 'thing', 'better', 'without', 'set', 'new', 'every',\n",
       "       'cute', 'best', 'bottles', 'work', 'purchased', 'right', 'lot',\n",
       "       'side', 'happy', 'comfortable', 'toy', 'able', 'kids', 'bit',\n",
       "       'night', 'long', 'fits', 'see', 'us', 'another', 'play', 'day',\n",
       "       'money', 'monitor', 'tried', 'thought', 'never', 'item', 'hard',\n",
       "       'plastic', 'however', 'disappointed', 'reviews', 'something',\n",
       "       'going', 'pump', 'bottle', 'cup', 'waste', 'return', 'amazon',\n",
       "       'different', 'top', 'want', 'problem', 'know', 'water', 'try',\n",
       "       'received', 'sure', 'times', 'chair', 'find', 'hold', 'gate',\n",
       "       'open', 'bottom', 'away', 'actually', 'cheap', 'worked', 'getting',\n",
       "       'ordered', 'came', 'milk', 'bad', 'part', 'worth', 'found',\n",
       "       'cover', 'many', 'design', 'looking', 'weeks', 'say', 'wanted',\n",
       "       'look', 'place', 'purchase', 'looks', 'second', 'piece', 'box',\n",
       "       'pretty', 'trying', 'difficult', 'together', 'though', 'give',\n",
       "       'started', 'anything', 'last', 'company', 'come', 'returned',\n",
       "       'maybe', 'took', 'broke', 'makes', 'stay', 'instead', 'idea',\n",
       "       'head', 'said', 'less', 'went', 'working', 'high', 'unit', 'seems',\n",
       "       'picture', 'completely', 'wish', 'buying', 'babies', 'won', 'tub',\n",
       "       'almost', 'either'], dtype=object)"
      ]
     },
     "execution_count": 19,
     "metadata": {},
     "output_type": "execute_result"
    }
   ],
   "source": [
    "products.columns.values"
   ]
  },
  {
   "cell_type": "code",
   "execution_count": 20,
   "metadata": {},
   "outputs": [
    {
     "data": {
      "text/plain": [
       "2955"
      ]
     },
     "execution_count": 20,
     "metadata": {},
     "output_type": "execute_result"
    }
   ],
   "source": [
    "len(products[products['perfect'] >= 1])"
   ]
  },
  {
   "cell_type": "code",
   "execution_count": 21,
   "metadata": {},
   "outputs": [],
   "source": [
    "def get_numpy_data(dataframe, features, label):\n",
    "    dataframe['constant'] = 1\n",
    "    features = ['constant'] + features\n",
    "    features_frame = dataframe[features]\n",
    "    feature_matrix = features_frame.as_matrix()\n",
    "    label_sarray = dataframe[label]\n",
    "    label_array = label_sarray.as_matrix()\n",
    "    return(feature_matrix, label_array)"
   ]
  },
  {
   "cell_type": "code",
   "execution_count": 22,
   "metadata": {},
   "outputs": [
    {
     "name": "stderr",
     "output_type": "stream",
     "text": [
      "/Users/mac/anaconda3/lib/python3.7/site-packages/ipykernel_launcher.py:5: FutureWarning: Method .as_matrix will be removed in a future version. Use .values instead.\n",
      "  \"\"\"\n",
      "/Users/mac/anaconda3/lib/python3.7/site-packages/ipykernel_launcher.py:7: FutureWarning: Method .as_matrix will be removed in a future version. Use .values instead.\n",
      "  import sys\n"
     ]
    }
   ],
   "source": [
    "feature_matrix, sentiment = get_numpy_data(products, important_words, 'sentiment')"
   ]
  },
  {
   "cell_type": "code",
   "execution_count": 23,
   "metadata": {},
   "outputs": [
    {
     "data": {
      "text/plain": [
       "array([[1, 0, 0, ..., 0, 0, 0],\n",
       "       [1, 0, 0, ..., 0, 0, 0],\n",
       "       [1, 1, 0, ..., 0, 0, 0],\n",
       "       ...,\n",
       "       [1, 0, 0, ..., 0, 0, 0],\n",
       "       [1, 0, 1, ..., 0, 0, 0],\n",
       "       [1, 0, 0, ..., 0, 0, 0]])"
      ]
     },
     "execution_count": 23,
     "metadata": {},
     "output_type": "execute_result"
    }
   ],
   "source": [
    "feature_matrix"
   ]
  },
  {
   "cell_type": "code",
   "execution_count": 24,
   "metadata": {},
   "outputs": [
    {
     "data": {
      "text/plain": [
       "array([ 1,  1,  1, ..., -1, -1, -1])"
      ]
     },
     "execution_count": 24,
     "metadata": {},
     "output_type": "execute_result"
    }
   ],
   "source": [
    "sentiment"
   ]
  },
  {
   "cell_type": "code",
   "execution_count": 25,
   "metadata": {},
   "outputs": [
    {
     "data": {
      "text/plain": [
       "(53072, 194)"
      ]
     },
     "execution_count": 25,
     "metadata": {},
     "output_type": "execute_result"
    }
   ],
   "source": [
    "feature_matrix.shape"
   ]
  },
  {
   "cell_type": "code",
   "execution_count": 1,
   "metadata": {},
   "outputs": [],
   "source": [
    "'''\n",
    "produces probablistic estimate for P(y_i = +1 | x_i, w).\n",
    "estimate ranges between 0 and 1.\n",
    "'''\n",
    "def predict_probability(feature_matrix, coefficients):\n",
    "    # Take dot product of feature_matrix and coefficients  \n",
    "    # YOUR CODE HERE\n",
    "    score = np.dot(feature_matrix, coefficients)\n",
    "    \n",
    "    # Compute P(y_i = +1 | x_i, w) using the link function\n",
    "    # YOUR CODE HERE\n",
    "    predictions = 1/(1+np.exp(-score))\n",
    "    \n",
    "    # return predictions\n",
    "    return predictions"
   ]
  },
  {
   "cell_type": "code",
   "execution_count": 2,
   "metadata": {},
   "outputs": [],
   "source": [
    "def feature_derivative(errors, feature):     \n",
    "    # Compute the dot product of errors and feature\n",
    "    derivative = np.dot(feature, errors)\n",
    "        # Return the derivative\n",
    "    return derivative"
   ]
  },
  {
   "cell_type": "code",
   "execution_count": 4,
   "metadata": {},
   "outputs": [],
   "source": [
    "def compute_log_likelihood(feature_matrix, sentiment, coefficients):\n",
    "    indicator = (sentiment==+1)\n",
    "    scores = np.dot(feature_matrix, coefficients)\n",
    "    lp = np.sum((indicator-1)*scores - np.log(1. + np.exp(-scores)))\n",
    "    return lp"
   ]
  },
  {
   "cell_type": "code",
   "execution_count": 27,
   "metadata": {},
   "outputs": [],
   "source": [
    "from math import sqrt\n",
    "def logistic_regression(feature_matrix, sentiment, initial_coefficients, step_size, max_iter):\n",
    "    coefficients = np.array(initial_coefficients) # make sure it's a numpy array\n",
    "    for itr in range(max_iter):\n",
    "        # Predict P(y_i = +1|x_1,w) using your predict_probability() function\n",
    "        # YOUR CODE HERE\n",
    "        predictions = predict_probability(feature_matrix, coefficients)\n",
    "\n",
    "        # Compute indicator value for (y_i = +1)\n",
    "        indicator = (sentiment==+1)\n",
    "\n",
    "        # Compute the errors as indicator - predictions\n",
    "        errors = indicator - predictions\n",
    "\n",
    "        for j in range(len(coefficients)): # loop over each coefficient\n",
    "            # Recall that feature_matrix[:,j] is the feature column associated with coefficients[j]\n",
    "            # compute the derivative for coefficients[j]. Save it in a variable called derivative\n",
    "            # YOUR CODE HERE\n",
    "            derivative = feature_derivative(errors,feature_matrix[:,j])\n",
    "\n",
    "            # add the step size times the derivative to the current coefficient\n",
    "            # YOUR CODE HERE\n",
    "            coefficients[j]+=derivative*step_size\n",
    "\n",
    "        # Checking whether log likelihood is increasing\n",
    "        if itr <= 15 or (itr <= 100 and itr % 10 == 0) or (itr <= 1000 and itr % 100 == 0) \\\n",
    "        or (itr <= 10000 and itr % 1000 == 0) or itr % 10000 == 0:\n",
    "            lp = compute_log_likelihood(feature_matrix, sentiment, coefficients)\n",
    "            print('iteration %*d: log likelihood of observed labels = %.8f' % \\\n",
    "                (int(np.ceil(np.log10(max_iter))), itr, lp))\n",
    "    return coefficients"
   ]
  },
  {
   "cell_type": "code",
   "execution_count": 28,
   "metadata": {},
   "outputs": [
    {
     "name": "stdout",
     "output_type": "stream",
     "text": [
      "iteration   0: log likelihood of observed labels = -36780.91768478\n",
      "iteration   1: log likelihood of observed labels = -36775.13434712\n",
      "iteration   2: log likelihood of observed labels = -36769.35713564\n",
      "iteration   3: log likelihood of observed labels = -36763.58603240\n",
      "iteration   4: log likelihood of observed labels = -36757.82101962\n",
      "iteration   5: log likelihood of observed labels = -36752.06207964\n",
      "iteration   6: log likelihood of observed labels = -36746.30919497\n",
      "iteration   7: log likelihood of observed labels = -36740.56234821\n",
      "iteration   8: log likelihood of observed labels = -36734.82152213\n",
      "iteration   9: log likelihood of observed labels = -36729.08669961\n",
      "iteration  10: log likelihood of observed labels = -36723.35786366\n",
      "iteration  11: log likelihood of observed labels = -36717.63499744\n",
      "iteration  12: log likelihood of observed labels = -36711.91808422\n",
      "iteration  13: log likelihood of observed labels = -36706.20710739\n",
      "iteration  14: log likelihood of observed labels = -36700.50205049\n",
      "iteration  15: log likelihood of observed labels = -36694.80289716\n",
      "iteration  20: log likelihood of observed labels = -36666.39512033\n",
      "iteration  30: log likelihood of observed labels = -36610.01327118\n",
      "iteration  40: log likelihood of observed labels = -36554.19728365\n",
      "iteration  50: log likelihood of observed labels = -36498.93316099\n",
      "iteration  60: log likelihood of observed labels = -36444.20783914\n",
      "iteration  70: log likelihood of observed labels = -36390.00909449\n",
      "iteration  80: log likelihood of observed labels = -36336.32546144\n",
      "iteration  90: log likelihood of observed labels = -36283.14615871\n",
      "iteration 100: log likelihood of observed labels = -36230.46102347\n",
      "iteration 200: log likelihood of observed labels = -35728.89418769\n",
      "iteration 300: log likelihood of observed labels = -35268.51212683\n"
     ]
    }
   ],
   "source": [
    "coefficients = logistic_regression(feature_matrix, sentiment, [0.0]*194, 1e-7, 301)"
   ]
  },
  {
   "cell_type": "code",
   "execution_count": 37,
   "metadata": {},
   "outputs": [],
   "source": [
    "predication = np.dot(feature_matrix, coefficients)"
   ]
  },
  {
   "cell_type": "code",
   "execution_count": 38,
   "metadata": {},
   "outputs": [
    {
     "data": {
      "text/plain": [
       "array([ 0.05104571, -0.02936473,  0.02411584, ..., -0.40986295,\n",
       "        0.01411436, -0.06755923])"
      ]
     },
     "execution_count": 38,
     "metadata": {},
     "output_type": "execute_result"
    }
   ],
   "source": [
    "predication"
   ]
  },
  {
   "cell_type": "code",
   "execution_count": 40,
   "metadata": {},
   "outputs": [
    {
     "name": "stderr",
     "output_type": "stream",
     "text": [
      "/Users/mac/anaconda3/lib/python3.7/site-packages/ipykernel_launcher.py:2: SettingWithCopyWarning: \n",
      "A value is trying to be set on a copy of a slice from a DataFrame\n",
      "\n",
      "See the caveats in the documentation: http://pandas.pydata.org/pandas-docs/stable/indexing.html#indexing-view-versus-copy\n",
      "  \n",
      "/Users/mac/anaconda3/lib/python3.7/site-packages/ipykernel_launcher.py:3: SettingWithCopyWarning: \n",
      "A value is trying to be set on a copy of a slice from a DataFrame\n",
      "\n",
      "See the caveats in the documentation: http://pandas.pydata.org/pandas-docs/stable/indexing.html#indexing-view-versus-copy\n",
      "  This is separate from the ipykernel package so we can avoid doing imports until\n"
     ]
    }
   ],
   "source": [
    "products['predication'] = 0\n",
    "products['predication'][predication>0] = 1\n",
    "products['predication'][predication<=0] = -1"
   ]
  },
  {
   "cell_type": "code",
   "execution_count": 41,
   "metadata": {},
   "outputs": [
    {
     "data": {
      "text/plain": [
       "25126"
      ]
     },
     "execution_count": 41,
     "metadata": {},
     "output_type": "execute_result"
    }
   ],
   "source": [
    "len(products[products['predication'] ==1 ])"
   ]
  },
  {
   "cell_type": "code",
   "execution_count": 42,
   "metadata": {},
   "outputs": [
    {
     "data": {
      "text/plain": [
       "0.7518653904130238"
      ]
     },
     "execution_count": 42,
     "metadata": {},
     "output_type": "execute_result"
    }
   ],
   "source": [
    "len(products[products['predication'] == products['sentiment']]) / len(products)"
   ]
  },
  {
   "cell_type": "code",
   "execution_count": 43,
   "metadata": {},
   "outputs": [],
   "source": [
    "coefficients = list(coefficients[1:]) # exclude intercept\n",
    "word_coefficient_tuples = [(word, coefficient) for word, coefficient in zip(important_words, coefficients)]\n",
    "word_coefficient_tuples = sorted(word_coefficient_tuples, key=lambda x:x[1], reverse=True)"
   ]
  },
  {
   "cell_type": "code",
   "execution_count": 44,
   "metadata": {},
   "outputs": [
    {
     "data": {
      "text/plain": [
       "[('great', 0.0665460841704577),\n",
       " ('love', 0.06589076292212327),\n",
       " ('easy', 0.06479458680257838),\n",
       " ('little', 0.045435626308421365),\n",
       " ('loves', 0.04497640139490604),\n",
       " ('well', 0.03013500109210707),\n",
       " ('perfect', 0.029739937104968462),\n",
       " ('old', 0.02007754103477538),\n",
       " ('nice', 0.018408707995268992),\n",
       " ('daughter', 0.017703199905701694),\n",
       " ('soft', 0.01757027224560289),\n",
       " ('fits', 0.016882471071408715),\n",
       " ('happy', 0.01680529588976808),\n",
       " ('baby', 0.0155656965804235),\n",
       " ('recommend', 0.015408450108008663),\n",
       " ('also', 0.015216196422918847),\n",
       " ('best', 0.014991791565630266),\n",
       " ('comfortable', 0.013253990081584899),\n",
       " ('car', 0.012685935745813372),\n",
       " ('clean', 0.012018174433365527),\n",
       " ('son', 0.011944817713693955),\n",
       " ('bit', 0.011708248093123262),\n",
       " ('works', 0.011703160621987422),\n",
       " ('size', 0.010715966516270303),\n",
       " ('stroller', 0.009909164635972733),\n",
       " ('room', 0.009783241021568061),\n",
       " ('price', 0.009572733543590176),\n",
       " ('play', 0.009178428983984311),\n",
       " ('easily', 0.009032818138954407),\n",
       " ('kids', 0.008582843004346525),\n",
       " ('still', 0.008264666945374463),\n",
       " ('lot', 0.007999389349248327),\n",
       " ('around', 0.0075089180973143405),\n",
       " ('need', 0.007171907270027091),\n",
       " ('take', 0.006710123314664173),\n",
       " ('keep', 0.006437668081870188),\n",
       " ('crib', 0.006002799788638706),\n",
       " ('without', 0.005923536113220275),\n",
       " ('year', 0.005733200028487889),\n",
       " ('set', 0.005674789908056569),\n",
       " ('cute', 0.00553751236405903),\n",
       " ('use', 0.005017438816565414),\n",
       " ('big', 0.004606618761970608),\n",
       " ('diaper', 0.004279382890354768),\n",
       " ('wish', 0.004020376508099751),\n",
       " ('seat', 0.003983533639413614),\n",
       " ('though', 0.0033448995950862924),\n",
       " ('every', 0.003081478639854043),\n",
       " ('enough', 0.003067855012990107),\n",
       " ('able', 0.002980306750661262),\n",
       " ('bag', 0.002861787516105207),\n",
       " ('babies', 0.0028581898513427404),\n",
       " ('seems', 0.0028153321886465322),\n",
       " ('night', 0.0028082590666831477),\n",
       " ('good', 0.00276820390639768),\n",
       " ('many', 0.0026466106385121296),\n",
       " ('makes', 0.0023134923740490204),\n",
       " ('pretty', 0.0022363904560238463),\n",
       " ('long', 0.0021872401621619436),\n",
       " ('think', 0.0017456314732199932),\n",
       " ('toy', 0.0017230705102314373),\n",
       " ('since', 0.0015547861236921189),\n",
       " ('looking', 0.0015347116392846493),\n",
       " ('us', 0.0015136828514065385),\n",
       " ('purchase', 0.0012225783235106367),\n",
       " ('put', 0.0008992390814154665),\n",
       " ('cover', 0.0008292511599959554),\n",
       " ('used', 0.0006101288089752649),\n",
       " ('found', 0.0004120917130065564),\n",
       " ('really', 0.0002725920624677602),\n",
       " ('won', 0.00011988500346780872),\n",
       " ('go', 9.91666827481429e-05),\n",
       " ('looks', 1.3669928550230828e-05),\n",
       " ('high', -0.00018648923566776302),\n",
       " ('day', -0.0001885722805001117),\n",
       " ('bottles', -0.0003356660003498168),\n",
       " ('chair', -0.0005159604846262288),\n",
       " ('using', -0.0006573503620923429),\n",
       " ('side', -0.0008613904437686899),\n",
       " ('worth', -0.0009762196756223375),\n",
       " ('almost', -0.0011449351626316184),\n",
       " ('hold', -0.0012476158571719626),\n",
       " ('months', -0.001362195157348742),\n",
       " ('look', -0.0016457514473845504),\n",
       " ('sure', -0.0016689531424132927),\n",
       " ('find', -0.001941995510954018),\n",
       " ('amazon', -0.0019732093718961645),\n",
       " ('month', -0.0022031766056230706),\n",
       " ('getting', -0.0022203440239695663),\n",
       " ('come', -0.002478056986088658),\n",
       " ('second', -0.003018666010667184),\n",
       " ('head', -0.003025788749392799),\n",
       " ('small', -0.003053454759330871),\n",
       " ('place', -0.0033188773175082016),\n",
       " ('together', -0.0034133092891886524),\n",
       " ('want', -0.003480885231408431),\n",
       " ('like', -0.003504884133335206),\n",
       " ('give', -0.0035098451575682472),\n",
       " ('say', -0.00373694385874852),\n",
       " ('wanted', -0.0038141640936843113),\n",
       " ('know', -0.004074970100351704),\n",
       " ('took', -0.0042664438640147104),\n",
       " ('much', -0.004397000674509432),\n",
       " ('see', -0.004659737406888564),\n",
       " ('purchased', -0.004789909428673403),\n",
       " ('fit', -0.004795795278093018),\n",
       " ('gate', -0.005012917306197126),\n",
       " ('bottle', -0.005040821636249148),\n",
       " ('different', -0.0050412750790588155),\n",
       " ('came', -0.005101156084295057),\n",
       " ('however', -0.005102879784877111),\n",
       " ('make', -0.005205884210607164),\n",
       " ('new', -0.005287862195972154),\n",
       " ('buying', -0.005443003464382597),\n",
       " ('last', -0.005470161541392435),\n",
       " ('actually', -0.005605733475251415),\n",
       " ('less', -0.005654987222257696),\n",
       " ('child', -0.006087140302347553),\n",
       " ('started', -0.006262831503162306),\n",
       " ('instead', -0.006300126718179461),\n",
       " ('water', -0.0063005429622255416),\n",
       " ('maybe', -0.006400989344627022),\n",
       " ('problem', -0.006409589155003781),\n",
       " ('right', -0.006413688585050478),\n",
       " ('tub', -0.0064758768730180894),\n",
       " ('said', -0.006762897175112025),\n",
       " ('went', -0.006870502394402382),\n",
       " ('quality', -0.006910108112146037),\n",
       " ('pump', -0.006952869149061941),\n",
       " ('top', -0.007007919116465677),\n",
       " ('part', -0.007041719908427807),\n",
       " ('ordered', -0.007075730981647347),\n",
       " ('either', -0.00709205934413514),\n",
       " ('bottom', -0.007220988012088563),\n",
       " ('anything', -0.007224199425910096),\n",
       " ('made', -0.007353459369094527),\n",
       " ('weeks', -0.007372630597764411),\n",
       " ('design', -0.00773228781737099),\n",
       " ('times', -0.007764187808314245),\n",
       " ('picture', -0.008101502952676014),\n",
       " ('away', -0.008317829807696091),\n",
       " ('one', -0.008502046745757363),\n",
       " ('milk', -0.00893572861599348),\n",
       " ('stay', -0.009066533373590218),\n",
       " ('open', -0.009120491910748275),\n",
       " ('cup', -0.00925914404318998),\n",
       " ('worked', -0.009315208191956718),\n",
       " ('trying', -0.009874247980135876),\n",
       " ('completely', -0.01000621305917875),\n",
       " ('got', -0.010147655511657533),\n",
       " ('difficult', -0.010219204790778673),\n",
       " ('piece', -0.01028263431773541),\n",
       " ('two', -0.010576801537792876),\n",
       " ('box', -0.010669132724912933),\n",
       " ('going', -0.010770935491004767),\n",
       " ('try', -0.010918793208792996),\n",
       " ('another', -0.010950912169649827),\n",
       " ('unit', -0.011523047555497197),\n",
       " ('working', -0.011895059489782877),\n",
       " ('idea', -0.012101030310887901),\n",
       " ('bought', -0.012170641997242545),\n",
       " ('company', -0.012506394670958822),\n",
       " ('received', -0.012605189953662306),\n",
       " ('bad', -0.012754571329579797),\n",
       " ('something', -0.012808838024750812),\n",
       " ('never', -0.012969046546319297),\n",
       " ('first', -0.01321347530167704),\n",
       " ('hard', -0.013756676731261403),\n",
       " ('thing', -0.013868727265297582),\n",
       " ('cheap', -0.014709833465080667),\n",
       " ('reviews', -0.014866319449976984),\n",
       " ('plastic', -0.014977044903587942),\n",
       " ('better', -0.015040658977043384),\n",
       " ('broke', -0.01553769895565389),\n",
       " ('returned', -0.016001798500102516),\n",
       " ('item', -0.01713786701085479),\n",
       " ('buy', -0.017737543997218042),\n",
       " ('time', -0.018246193486087036),\n",
       " ('way', -0.018359460662945686),\n",
       " ('tried', -0.018702371424325834),\n",
       " ('could', -0.019846256660777214),\n",
       " ('thought', -0.021394348543682478),\n",
       " ('waste', -0.024042748071154956),\n",
       " ('monitor', -0.024482100545891717),\n",
       " ('return', -0.026592778462247283),\n",
       " ('back', -0.027742697230661327),\n",
       " ('get', -0.02871155298019259),\n",
       " ('disappointed', -0.028978976142317068),\n",
       " ('even', -0.0300512492360358),\n",
       " ('work', -0.03306951529475273),\n",
       " ('money', -0.038982037286487116),\n",
       " ('product', -0.0415110333921089),\n",
       " ('would', -0.053860148445203135)]"
      ]
     },
     "execution_count": 44,
     "metadata": {},
     "output_type": "execute_result"
    }
   ],
   "source": [
    "word_coefficient_tuples"
   ]
  },
  {
   "cell_type": "code",
   "execution_count": 45,
   "metadata": {},
   "outputs": [
    {
     "data": {
      "text/plain": [
       "[('would', -0.053860148445203135),\n",
       " ('product', -0.0415110333921089),\n",
       " ('money', -0.038982037286487116),\n",
       " ('work', -0.03306951529475273),\n",
       " ('even', -0.0300512492360358),\n",
       " ('disappointed', -0.028978976142317068),\n",
       " ('get', -0.02871155298019259),\n",
       " ('back', -0.027742697230661327),\n",
       " ('return', -0.026592778462247283),\n",
       " ('monitor', -0.024482100545891717),\n",
       " ('waste', -0.024042748071154956),\n",
       " ('thought', -0.021394348543682478),\n",
       " ('could', -0.019846256660777214),\n",
       " ('tried', -0.018702371424325834),\n",
       " ('way', -0.018359460662945686),\n",
       " ('time', -0.018246193486087036),\n",
       " ('buy', -0.017737543997218042),\n",
       " ('item', -0.01713786701085479),\n",
       " ('returned', -0.016001798500102516),\n",
       " ('broke', -0.01553769895565389),\n",
       " ('better', -0.015040658977043384),\n",
       " ('plastic', -0.014977044903587942),\n",
       " ('reviews', -0.014866319449976984),\n",
       " ('cheap', -0.014709833465080667),\n",
       " ('thing', -0.013868727265297582),\n",
       " ('hard', -0.013756676731261403),\n",
       " ('first', -0.01321347530167704),\n",
       " ('never', -0.012969046546319297),\n",
       " ('something', -0.012808838024750812),\n",
       " ('bad', -0.012754571329579797),\n",
       " ('received', -0.012605189953662306),\n",
       " ('company', -0.012506394670958822),\n",
       " ('bought', -0.012170641997242545),\n",
       " ('idea', -0.012101030310887901),\n",
       " ('working', -0.011895059489782877),\n",
       " ('unit', -0.011523047555497197),\n",
       " ('another', -0.010950912169649827),\n",
       " ('try', -0.010918793208792996),\n",
       " ('going', -0.010770935491004767),\n",
       " ('box', -0.010669132724912933),\n",
       " ('two', -0.010576801537792876),\n",
       " ('piece', -0.01028263431773541),\n",
       " ('difficult', -0.010219204790778673),\n",
       " ('got', -0.010147655511657533),\n",
       " ('completely', -0.01000621305917875),\n",
       " ('trying', -0.009874247980135876),\n",
       " ('worked', -0.009315208191956718),\n",
       " ('cup', -0.00925914404318998),\n",
       " ('open', -0.009120491910748275),\n",
       " ('stay', -0.009066533373590218),\n",
       " ('milk', -0.00893572861599348),\n",
       " ('one', -0.008502046745757363),\n",
       " ('away', -0.008317829807696091),\n",
       " ('picture', -0.008101502952676014),\n",
       " ('times', -0.007764187808314245),\n",
       " ('design', -0.00773228781737099),\n",
       " ('weeks', -0.007372630597764411),\n",
       " ('made', -0.007353459369094527),\n",
       " ('anything', -0.007224199425910096),\n",
       " ('bottom', -0.007220988012088563),\n",
       " ('either', -0.00709205934413514),\n",
       " ('ordered', -0.007075730981647347),\n",
       " ('part', -0.007041719908427807),\n",
       " ('top', -0.007007919116465677),\n",
       " ('pump', -0.006952869149061941),\n",
       " ('quality', -0.006910108112146037),\n",
       " ('went', -0.006870502394402382),\n",
       " ('said', -0.006762897175112025),\n",
       " ('tub', -0.0064758768730180894),\n",
       " ('right', -0.006413688585050478),\n",
       " ('problem', -0.006409589155003781),\n",
       " ('maybe', -0.006400989344627022),\n",
       " ('water', -0.0063005429622255416),\n",
       " ('instead', -0.006300126718179461),\n",
       " ('started', -0.006262831503162306),\n",
       " ('child', -0.006087140302347553),\n",
       " ('less', -0.005654987222257696),\n",
       " ('actually', -0.005605733475251415),\n",
       " ('last', -0.005470161541392435),\n",
       " ('buying', -0.005443003464382597),\n",
       " ('new', -0.005287862195972154),\n",
       " ('make', -0.005205884210607164),\n",
       " ('however', -0.005102879784877111),\n",
       " ('came', -0.005101156084295057),\n",
       " ('different', -0.0050412750790588155),\n",
       " ('bottle', -0.005040821636249148),\n",
       " ('gate', -0.005012917306197126),\n",
       " ('fit', -0.004795795278093018),\n",
       " ('purchased', -0.004789909428673403),\n",
       " ('see', -0.004659737406888564),\n",
       " ('much', -0.004397000674509432),\n",
       " ('took', -0.0042664438640147104),\n",
       " ('know', -0.004074970100351704),\n",
       " ('wanted', -0.0038141640936843113),\n",
       " ('say', -0.00373694385874852),\n",
       " ('give', -0.0035098451575682472),\n",
       " ('like', -0.003504884133335206),\n",
       " ('want', -0.003480885231408431),\n",
       " ('together', -0.0034133092891886524),\n",
       " ('place', -0.0033188773175082016),\n",
       " ('small', -0.003053454759330871),\n",
       " ('head', -0.003025788749392799),\n",
       " ('second', -0.003018666010667184),\n",
       " ('come', -0.002478056986088658),\n",
       " ('getting', -0.0022203440239695663),\n",
       " ('month', -0.0022031766056230706),\n",
       " ('amazon', -0.0019732093718961645),\n",
       " ('find', -0.001941995510954018),\n",
       " ('sure', -0.0016689531424132927),\n",
       " ('look', -0.0016457514473845504),\n",
       " ('months', -0.001362195157348742),\n",
       " ('hold', -0.0012476158571719626),\n",
       " ('almost', -0.0011449351626316184),\n",
       " ('worth', -0.0009762196756223375),\n",
       " ('side', -0.0008613904437686899),\n",
       " ('using', -0.0006573503620923429),\n",
       " ('chair', -0.0005159604846262288),\n",
       " ('bottles', -0.0003356660003498168),\n",
       " ('day', -0.0001885722805001117),\n",
       " ('high', -0.00018648923566776302),\n",
       " ('looks', 1.3669928550230828e-05),\n",
       " ('go', 9.91666827481429e-05),\n",
       " ('won', 0.00011988500346780872),\n",
       " ('really', 0.0002725920624677602),\n",
       " ('found', 0.0004120917130065564),\n",
       " ('used', 0.0006101288089752649),\n",
       " ('cover', 0.0008292511599959554),\n",
       " ('put', 0.0008992390814154665),\n",
       " ('purchase', 0.0012225783235106367),\n",
       " ('us', 0.0015136828514065385),\n",
       " ('looking', 0.0015347116392846493),\n",
       " ('since', 0.0015547861236921189),\n",
       " ('toy', 0.0017230705102314373),\n",
       " ('think', 0.0017456314732199932),\n",
       " ('long', 0.0021872401621619436),\n",
       " ('pretty', 0.0022363904560238463),\n",
       " ('makes', 0.0023134923740490204),\n",
       " ('many', 0.0026466106385121296),\n",
       " ('good', 0.00276820390639768),\n",
       " ('night', 0.0028082590666831477),\n",
       " ('seems', 0.0028153321886465322),\n",
       " ('babies', 0.0028581898513427404),\n",
       " ('bag', 0.002861787516105207),\n",
       " ('able', 0.002980306750661262),\n",
       " ('enough', 0.003067855012990107),\n",
       " ('every', 0.003081478639854043),\n",
       " ('though', 0.0033448995950862924),\n",
       " ('seat', 0.003983533639413614),\n",
       " ('wish', 0.004020376508099751),\n",
       " ('diaper', 0.004279382890354768),\n",
       " ('big', 0.004606618761970608),\n",
       " ('use', 0.005017438816565414),\n",
       " ('cute', 0.00553751236405903),\n",
       " ('set', 0.005674789908056569),\n",
       " ('year', 0.005733200028487889),\n",
       " ('without', 0.005923536113220275),\n",
       " ('crib', 0.006002799788638706),\n",
       " ('keep', 0.006437668081870188),\n",
       " ('take', 0.006710123314664173),\n",
       " ('need', 0.007171907270027091),\n",
       " ('around', 0.0075089180973143405),\n",
       " ('lot', 0.007999389349248327),\n",
       " ('still', 0.008264666945374463),\n",
       " ('kids', 0.008582843004346525),\n",
       " ('easily', 0.009032818138954407),\n",
       " ('play', 0.009178428983984311),\n",
       " ('price', 0.009572733543590176),\n",
       " ('room', 0.009783241021568061),\n",
       " ('stroller', 0.009909164635972733),\n",
       " ('size', 0.010715966516270303),\n",
       " ('works', 0.011703160621987422),\n",
       " ('bit', 0.011708248093123262),\n",
       " ('son', 0.011944817713693955),\n",
       " ('clean', 0.012018174433365527),\n",
       " ('car', 0.012685935745813372),\n",
       " ('comfortable', 0.013253990081584899),\n",
       " ('best', 0.014991791565630266),\n",
       " ('also', 0.015216196422918847),\n",
       " ('recommend', 0.015408450108008663),\n",
       " ('baby', 0.0155656965804235),\n",
       " ('happy', 0.01680529588976808),\n",
       " ('fits', 0.016882471071408715),\n",
       " ('soft', 0.01757027224560289),\n",
       " ('daughter', 0.017703199905701694),\n",
       " ('nice', 0.018408707995268992),\n",
       " ('old', 0.02007754103477538),\n",
       " ('perfect', 0.029739937104968462),\n",
       " ('well', 0.03013500109210707),\n",
       " ('loves', 0.04497640139490604),\n",
       " ('little', 0.045435626308421365),\n",
       " ('easy', 0.06479458680257838),\n",
       " ('love', 0.06589076292212327),\n",
       " ('great', 0.0665460841704577)]"
      ]
     },
     "execution_count": 45,
     "metadata": {},
     "output_type": "execute_result"
    }
   ],
   "source": [
    "word_coefficient_tuples = [(word, coefficient) for word, coefficient in zip(important_words, coefficients)]\n",
    "word_coefficient_tuples = sorted(word_coefficient_tuples, key=lambda x:x[1], reverse=False)\n",
    "word_coefficient_tuples"
   ]
  },
  {
   "cell_type": "code",
   "execution_count": null,
   "metadata": {},
   "outputs": [],
   "source": []
  }
 ],
 "metadata": {
  "kernelspec": {
   "display_name": "Python 3",
   "language": "python",
   "name": "python3"
  },
  "language_info": {
   "codemirror_mode": {
    "name": "ipython",
    "version": 3
   },
   "file_extension": ".py",
   "mimetype": "text/x-python",
   "name": "python",
   "nbconvert_exporter": "python",
   "pygments_lexer": "ipython3",
   "version": "3.7.0"
  }
 },
 "nbformat": 4,
 "nbformat_minor": 2
}
