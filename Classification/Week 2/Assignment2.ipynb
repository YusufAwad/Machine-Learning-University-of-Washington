{
 "cells": [
  {
   "cell_type": "code",
   "execution_count": 1,
   "metadata": {},
   "outputs": [],
   "source": [
    "import pandas as pd\n",
    "import numpy as np\n",
    "import string"
   ]
  },
  {
   "cell_type": "code",
   "execution_count": 2,
   "metadata": {},
   "outputs": [],
   "source": [
    "products = pd.read_csv('amazon_baby_subset.csv')"
   ]
  },
  {
   "cell_type": "code",
   "execution_count": 3,
   "metadata": {},
   "outputs": [
    {
     "data": {
      "text/plain": [
       "array([\"Stop Pacifier Sucking without tears with Thumbuddy To Love's Binky Fairy Puppet and Adorable Book\",\n",
       "       \"Nature's Lullabies Second Year Sticker Calendar\",\n",
       "       \"Nature's Lullabies Second Year Sticker Calendar\",\n",
       "       'Lamaze Peekaboo, I Love You',\n",
       "       \"SoftPlay Peek-A-Boo Where's Elmo A Children's Book\",\n",
       "       'Our Baby Girl Memory Book',\n",
       "       'Hunnt&reg; Falling Flowers and Birds Kids Nursery Home Decor Vinyl Mural Art Wall Paper Stickers',\n",
       "       'Blessed By Pope Benedict XVI Divine Mercy Full Color Medal',\n",
       "       'Cloth Diaper Pins Stainless Steel Traditional Safety Pin (Black)',\n",
       "       'Cloth Diaper Pins Stainless Steel Traditional Safety Pin (Black)'],\n",
       "      dtype=object)"
      ]
     },
     "execution_count": 3,
     "metadata": {},
     "output_type": "execute_result"
    }
   ],
   "source": [
    "products['name'].head(10).values"
   ]
  },
  {
   "cell_type": "code",
   "execution_count": 4,
   "metadata": {},
   "outputs": [
    {
     "data": {
      "text/plain": [
       "array(['name', 'review', 'rating', 'sentiment'], dtype=object)"
      ]
     },
     "execution_count": 4,
     "metadata": {},
     "output_type": "execute_result"
    }
   ],
   "source": [
    "products.columns.values"
   ]
  },
  {
   "cell_type": "code",
   "execution_count": 5,
   "metadata": {},
   "outputs": [],
   "source": [
    "def remove_punctuation(text):\n",
    "    table = str.maketrans({key: None for key in string.punctuation})\n",
    "    return text.translate(table) "
   ]
  },
  {
   "cell_type": "code",
   "execution_count": 6,
   "metadata": {},
   "outputs": [],
   "source": [
    "products = products.fillna({'review':''})"
   ]
  },
  {
   "cell_type": "code",
   "execution_count": 7,
   "metadata": {},
   "outputs": [],
   "source": [
    "products['review_clean'] = products['review'].apply(remove_punctuation)"
   ]
  },
  {
   "cell_type": "code",
   "execution_count": 8,
   "metadata": {},
   "outputs": [],
   "source": [
    "important_words = pd.read_json('important_words.json')"
   ]
  },
  {
   "cell_type": "code",
   "execution_count": 9,
   "metadata": {},
   "outputs": [],
   "source": [
    "important_words = important_words[0].tolist()"
   ]
  },
  {
   "cell_type": "code",
   "execution_count": 10,
   "metadata": {},
   "outputs": [],
   "source": [
    "for word in important_words:\n",
    "    products[word] = products['review_clean'].apply(lambda s : s.split().count(word))"
   ]
  },
  {
   "cell_type": "code",
   "execution_count": 11,
   "metadata": {},
   "outputs": [],
   "source": [
    "train = pd.read_json('module-4-assignment-train-idx.json')\n",
    "validation = pd.read_json('module-4-assignment-validation-idx.json')"
   ]
  },
  {
   "cell_type": "code",
   "execution_count": 12,
   "metadata": {},
   "outputs": [],
   "source": [
    "def get_numpy_data(dataframe, features, label):\n",
    "    dataframe['constant'] = 1\n",
    "    features = ['constant'] + features\n",
    "    features_frame = dataframe[features]\n",
    "    feature_matrix = features_frame.as_matrix()\n",
    "    label_sarray = dataframe[label]\n",
    "    label_array = label_sarray.as_matrix()\n",
    "    return(feature_matrix, label_array)"
   ]
  },
  {
   "cell_type": "code",
   "execution_count": 13,
   "metadata": {},
   "outputs": [
    {
     "name": "stderr",
     "output_type": "stream",
     "text": [
      "/Users/mac/anaconda3/lib/python3.7/site-packages/ipykernel_launcher.py:5: FutureWarning: Method .as_matrix will be removed in a future version. Use .values instead.\n",
      "  \"\"\"\n",
      "/Users/mac/anaconda3/lib/python3.7/site-packages/ipykernel_launcher.py:7: FutureWarning: Method .as_matrix will be removed in a future version. Use .values instead.\n",
      "  import sys\n"
     ]
    }
   ],
   "source": [
    "feature_matrix, sentiment = get_numpy_data(products, important_words, 'sentiment')"
   ]
  },
  {
   "cell_type": "code",
   "execution_count": 14,
   "metadata": {},
   "outputs": [],
   "source": [
    "train_data = products.iloc[train[0].tolist()]\n",
    "validation_data = products.iloc[validation[0].tolist()]"
   ]
  },
  {
   "cell_type": "code",
   "execution_count": 15,
   "metadata": {},
   "outputs": [
    {
     "name": "stderr",
     "output_type": "stream",
     "text": [
      "/Users/mac/anaconda3/lib/python3.7/site-packages/ipykernel_launcher.py:2: SettingWithCopyWarning: \n",
      "A value is trying to be set on a copy of a slice from a DataFrame.\n",
      "Try using .loc[row_indexer,col_indexer] = value instead\n",
      "\n",
      "See the caveats in the documentation: http://pandas.pydata.org/pandas-docs/stable/indexing.html#indexing-view-versus-copy\n",
      "  \n",
      "/Users/mac/anaconda3/lib/python3.7/site-packages/ipykernel_launcher.py:5: FutureWarning: Method .as_matrix will be removed in a future version. Use .values instead.\n",
      "  \"\"\"\n",
      "/Users/mac/anaconda3/lib/python3.7/site-packages/ipykernel_launcher.py:7: FutureWarning: Method .as_matrix will be removed in a future version. Use .values instead.\n",
      "  import sys\n"
     ]
    }
   ],
   "source": [
    "feature_matrix_train, sentiment_train = get_numpy_data(train_data, important_words, 'sentiment')\n",
    "feature_matrix_valid, sentiment_valid = get_numpy_data(validation_data, important_words, 'sentiment') "
   ]
  },
  {
   "cell_type": "code",
   "execution_count": 16,
   "metadata": {},
   "outputs": [],
   "source": [
    "'''\n",
    "produces probablistic estimate for P(y_i = +1 | x_i, w).\n",
    "estimate ranges between 0 and 1.\n",
    "'''\n",
    "def predict_probability(feature_matrix, coefficients):\n",
    "    # Take dot product of feature_matrix and coefficients  \n",
    "    # YOUR CODE HERE\n",
    "    score = np.dot(feature_matrix, coefficients)\n",
    "    \n",
    "    # Compute P(y_i = +1 | x_i, w) using the link function\n",
    "    # YOUR CODE HERE\n",
    "    predictions = 1/(1+np.exp(-score))\n",
    "    \n",
    "    # return predictions\n",
    "    return predictions"
   ]
  },
  {
   "cell_type": "code",
   "execution_count": 17,
   "metadata": {},
   "outputs": [],
   "source": [
    "def feature_derivative_with_L2(errors, feature, coefficient, l2_penalty, feature_is_constant): \n",
    "    \n",
    "    # Compute the dot product of errors and feature\n",
    "    ## YOUR CODE HERE\n",
    "    derivative =  np.dot(feature, errors)\n",
    "\n",
    "    # add L2 penalty term for any feature that isn't the intercept.\n",
    "    if not feature_is_constant: \n",
    "        ## YOUR CODE HERE\n",
    "        derivative =  derivative - 2*l2_penalty*coefficient\n",
    "        \n",
    "    return derivative"
   ]
  },
  {
   "cell_type": "code",
   "execution_count": 18,
   "metadata": {},
   "outputs": [],
   "source": [
    "def compute_log_likelihood_with_L2(feature_matrix, sentiment, coefficients, l2_penalty):\n",
    "    indicator = (sentiment==+1)\n",
    "    scores = np.dot(feature_matrix, coefficients)\n",
    "    \n",
    "    lp = np.sum((indicator-1)*scores - np.log(1. + np.exp(-scores))) - l2_penalty*np.sum(coefficients[1:]**2)\n",
    "    \n",
    "    return lp"
   ]
  },
  {
   "cell_type": "code",
   "execution_count": 19,
   "metadata": {},
   "outputs": [],
   "source": [
    "def logistic_regression_with_L2(feature_matrix, sentiment, initial_coefficients, step_size, l2_penalty, max_iter):\n",
    "    coefficients = np.array(initial_coefficients) # make sure it's a numpy array\n",
    "    for itr in range(max_iter):\n",
    "        # Predict P(y_i = +1|x_i,w) using your predict_probability() function\n",
    "        ## YOUR CODE HERE\n",
    "        predictions = predict_probability(feature_matrix,coefficients)\n",
    "        \n",
    "        # Compute indicator value for (y_i = +1)\n",
    "        indicator = (sentiment==+1)\n",
    "        \n",
    "        # Compute the errors as indicator - predictions\n",
    "        errors = indicator - predictions\n",
    "        for j in range(len(coefficients)): # loop over each coefficient\n",
    "            is_intercept = (j == 0)\n",
    "            # Recall that feature_matrix[:,j] is the feature column associated with coefficients[j].\n",
    "            # Compute the derivative for coefficients[j]. Save it in a variable called derivative\n",
    "            ## YOUR CODE HERE\n",
    "            derivative = feature_derivative_with_L2(errors, feature_matrix[:,j], coefficients[j], l2_penalty, is_intercept)\n",
    "            \n",
    "            # add the step size times the derivative to the current coefficient\n",
    "            ## YOUR CODE HERE\n",
    "            coefficients[j] += step_size*derivative\n",
    "        \n",
    "        # Checking whether log likelihood is increasing\n",
    "        if itr <= 15 or (itr <= 100 and itr % 10 == 0) or (itr <= 1000 and itr % 100 == 0) \\\n",
    "        or (itr <= 10000 and itr % 1000 == 0) or itr % 10000 == 0:\n",
    "            lp = compute_log_likelihood_with_L2(feature_matrix, sentiment, coefficients, l2_penalty)\n",
    "            print('iteration %*d: log likelihood of observed labels = %.8f' % \\\n",
    "                (int(np.ceil(np.log10(max_iter))), itr, lp))\n",
    "    return coefficients"
   ]
  },
  {
   "cell_type": "code",
   "execution_count": 20,
   "metadata": {},
   "outputs": [
    {
     "name": "stdout",
     "output_type": "stream",
     "text": [
      "iteration   0: log likelihood of observed labels = -36501.00077248\n",
      "iteration   1: log likelihood of observed labels = -36229.58317077\n",
      "iteration   2: log likelihood of observed labels = -35970.75464027\n",
      "iteration   3: log likelihood of observed labels = -35723.33008776\n",
      "iteration   4: log likelihood of observed labels = -35486.40885733\n",
      "iteration   5: log likelihood of observed labels = -35259.25616861\n",
      "iteration   6: log likelihood of observed labels = -35041.24136548\n",
      "iteration   7: log likelihood of observed labels = -34831.80501055\n",
      "iteration   8: log likelihood of observed labels = -34630.44072328\n",
      "iteration   9: log likelihood of observed labels = -34436.68462885\n",
      "iteration  10: log likelihood of observed labels = -34250.10878417\n",
      "iteration  11: log likelihood of observed labels = -34070.31672141\n",
      "iteration  12: log likelihood of observed labels = -33896.94015489\n",
      "iteration  13: log likelihood of observed labels = -33729.63636019\n",
      "iteration  14: log likelihood of observed labels = -33568.08597102\n",
      "iteration  15: log likelihood of observed labels = -33411.99105930\n",
      "iteration  20: log likelihood of observed labels = -32704.21959923\n",
      "iteration  30: log likelihood of observed labels = -31571.97015261\n",
      "iteration  40: log likelihood of observed labels = -30702.82743916\n",
      "iteration  50: log likelihood of observed labels = -30011.57654783\n",
      "iteration  60: log likelihood of observed labels = -29446.58993970\n",
      "iteration  70: log likelihood of observed labels = -28974.77040790\n",
      "iteration  80: log likelihood of observed labels = -28573.88526665\n",
      "iteration  90: log likelihood of observed labels = -28228.41064918\n",
      "iteration 100: log likelihood of observed labels = -27927.15140985\n",
      "iteration 200: log likelihood of observed labels = -26187.38065238\n",
      "iteration 300: log likelihood of observed labels = -25399.67842589\n",
      "iteration 400: log likelihood of observed labels = -24948.43914825\n",
      "iteration 500: log likelihood of observed labels = -24657.80880284\n"
     ]
    }
   ],
   "source": [
    "coefficients_0_penalty = logistic_regression_with_L2(feature_matrix, sentiment, [0.0]*194, 5e-6, 0,501)"
   ]
  },
  {
   "cell_type": "code",
   "execution_count": 21,
   "metadata": {},
   "outputs": [
    {
     "name": "stdout",
     "output_type": "stream",
     "text": [
      "iteration   0: log likelihood of observed labels = -36501.00656331\n",
      "iteration   1: log likelihood of observed labels = -36229.61671669\n",
      "iteration   2: log likelihood of observed labels = -35970.83580141\n",
      "iteration   3: log likelihood of observed labels = -35723.47695212\n",
      "iteration   4: log likelihood of observed labels = -35486.63795719\n",
      "iteration   5: log likelihood of observed labels = -35259.58264195\n",
      "iteration   6: log likelihood of observed labels = -35041.67908879\n",
      "iteration   7: log likelihood of observed labels = -34832.36671441\n",
      "iteration   8: log likelihood of observed labels = -34631.13809561\n",
      "iteration   9: log likelihood of observed labels = -34437.52840800\n",
      "iteration  10: log likelihood of observed labels = -34251.10884313\n",
      "iteration  11: log likelihood of observed labels = -34071.48214397\n",
      "iteration  12: log likelihood of observed labels = -33898.27930440\n",
      "iteration  13: log likelihood of observed labels = -33731.15694176\n",
      "iteration  14: log likelihood of observed labels = -33569.79508764\n",
      "iteration  15: log likelihood of observed labels = -33413.89526257\n",
      "iteration  20: log likelihood of observed labels = -32707.18119048\n",
      "iteration  30: log likelihood of observed labels = -31577.32200328\n",
      "iteration  40: log likelihood of observed labels = -30710.76224020\n",
      "iteration  50: log likelihood of observed labels = -30022.17268461\n",
      "iteration  60: log likelihood of observed labels = -29459.86612350\n",
      "iteration  70: log likelihood of observed labels = -28990.71256172\n",
      "iteration  80: log likelihood of observed labels = -28592.46075690\n",
      "iteration  90: log likelihood of observed labels = -28249.57625876\n",
      "iteration 100: log likelihood of observed labels = -27950.85800697\n",
      "iteration 200: log likelihood of observed labels = -26233.63781164\n",
      "iteration 300: log likelihood of observed labels = -25464.09973960\n",
      "iteration 400: log likelihood of observed labels = -25027.84570919\n",
      "iteration 500: log likelihood of observed labels = -24749.83087542\n"
     ]
    }
   ],
   "source": [
    "coefficients_4_penalty = logistic_regression_with_L2(feature_matrix, sentiment, [0.0]*194, 5e-6, 4, 501)"
   ]
  },
  {
   "cell_type": "code",
   "execution_count": 22,
   "metadata": {},
   "outputs": [
    {
     "name": "stdout",
     "output_type": "stream",
     "text": [
      "iteration   0: log likelihood of observed labels = -36501.01524956\n",
      "iteration   1: log likelihood of observed labels = -36229.66703216\n",
      "iteration   2: log likelihood of observed labels = -35970.95752672\n",
      "iteration   3: log likelihood of observed labels = -35723.69720439\n",
      "iteration   4: log likelihood of observed labels = -35486.98151526\n",
      "iteration   5: log likelihood of observed labels = -35260.07218917\n",
      "iteration   6: log likelihood of observed labels = -35042.33541276\n",
      "iteration   7: log likelihood of observed labels = -34833.20888079\n",
      "iteration   8: log likelihood of observed labels = -34632.18360335\n",
      "iteration   9: log likelihood of observed labels = -34438.79332934\n",
      "iteration  10: log likelihood of observed labels = -34252.60795023\n",
      "iteration  11: log likelihood of observed labels = -34073.22902336\n",
      "iteration  12: log likelihood of observed labels = -33900.28646044\n",
      "iteration  13: log likelihood of observed labels = -33733.43589007\n",
      "iteration  14: log likelihood of observed labels = -33572.35643947\n",
      "iteration  15: log likelihood of observed labels = -33416.74880105\n",
      "iteration  20: log likelihood of observed labels = -32711.61790280\n",
      "iteration  30: log likelihood of observed labels = -31585.33465869\n",
      "iteration  40: log likelihood of observed labels = -30722.63493364\n",
      "iteration  50: log likelihood of observed labels = -30038.01813375\n",
      "iteration  60: log likelihood of observed labels = -29479.70770996\n",
      "iteration  70: log likelihood of observed labels = -29014.52469153\n",
      "iteration  80: log likelihood of observed labels = -28620.19021518\n",
      "iteration  90: log likelihood of observed labels = -28281.15416578\n",
      "iteration 100: log likelihood of observed labels = -27986.20681347\n",
      "iteration 200: log likelihood of observed labels = -26302.23218255\n",
      "iteration 300: log likelihood of observed labels = -25559.13046211\n",
      "iteration 400: log likelihood of observed labels = -25144.39894914\n",
      "iteration 500: log likelihood of observed labels = -24884.25996852\n"
     ]
    }
   ],
   "source": [
    "coefficients_10_penalty = logistic_regression_with_L2(feature_matrix, sentiment, [0.0]*194, 5e-6, 10, 501)"
   ]
  },
  {
   "cell_type": "code",
   "execution_count": 23,
   "metadata": {},
   "outputs": [
    {
     "name": "stdout",
     "output_type": "stream",
     "text": [
      "iteration   0: log likelihood of observed labels = -36501.14554336\n",
      "iteration   1: log likelihood of observed labels = -36230.42127397\n",
      "iteration   2: log likelihood of observed labels = -35972.78104800\n",
      "iteration   3: log likelihood of observed labels = -35726.99461905\n",
      "iteration   4: log likelihood of observed labels = -35492.12169965\n",
      "iteration   5: log likelihood of observed labels = -35267.39200906\n",
      "iteration   6: log likelihood of observed labels = -35052.14279454\n",
      "iteration   7: log likelihood of observed labels = -34845.78548413\n",
      "iteration   8: log likelihood of observed labels = -34647.78720696\n",
      "iteration   9: log likelihood of observed labels = -34457.65998114\n",
      "iteration  10: log likelihood of observed labels = -34274.95390994\n",
      "iteration  11: log likelihood of observed labels = -34099.25251762\n",
      "iteration  12: log likelihood of observed labels = -33930.16926765\n",
      "iteration  13: log likelihood of observed labels = -33767.34477085\n",
      "iteration  14: log likelihood of observed labels = -33610.44442803\n",
      "iteration  15: log likelihood of observed labels = -33459.15637130\n",
      "iteration  20: log likelihood of observed labels = -32777.35930211\n",
      "iteration  30: log likelihood of observed labels = -31703.37860133\n",
      "iteration  40: log likelihood of observed labels = -30896.55821742\n",
      "iteration  50: log likelihood of observed labels = -30268.84868344\n",
      "iteration  60: log likelihood of observed labels = -29767.16809541\n",
      "iteration  70: log likelihood of observed labels = -29357.64139407\n",
      "iteration  80: log likelihood of observed labels = -29017.61424282\n",
      "iteration  90: log likelihood of observed labels = -28731.33920588\n",
      "iteration 100: log likelihood of observed labels = -28487.51235074\n",
      "iteration 200: log likelihood of observed labels = -27228.00640413\n",
      "iteration 300: log likelihood of observed labels = -26785.81347041\n",
      "iteration 400: log likelihood of observed labels = -26589.79974739\n",
      "iteration 500: log likelihood of observed labels = -26492.30534390\n"
     ]
    }
   ],
   "source": [
    "coefficients_1e2_penalty = logistic_regression_with_L2(feature_matrix, sentiment, [0.0]*194, 5e-6, 1e2, 501)"
   ]
  },
  {
   "cell_type": "code",
   "execution_count": 24,
   "metadata": {},
   "outputs": [
    {
     "name": "stdout",
     "output_type": "stream",
     "text": [
      "iteration   0: log likelihood of observed labels = -36502.44848131\n",
      "iteration   1: log likelihood of observed labels = -36237.91326742\n",
      "iteration   2: log likelihood of observed labels = -35990.77488321\n",
      "iteration   3: log likelihood of observed labels = -35759.32015854\n",
      "iteration   4: log likelihood of observed labels = -35542.18735471\n",
      "iteration   5: log likelihood of observed labels = -35338.23193730\n",
      "iteration   6: log likelihood of observed labels = -35146.45618582\n",
      "iteration   7: log likelihood of observed labels = -34965.97071535\n",
      "iteration   8: log likelihood of observed labels = -34795.97212805\n",
      "iteration   9: log likelihood of observed labels = -34635.72897289\n",
      "iteration  10: log likelihood of observed labels = -34484.57211081\n",
      "iteration  11: log likelihood of observed labels = -34341.88752301\n",
      "iteration  12: log likelihood of observed labels = -34207.11056476\n",
      "iteration  13: log likelihood of observed labels = -34079.72114818\n",
      "iteration  14: log likelihood of observed labels = -33959.23957748\n",
      "iteration  15: log likelihood of observed labels = -33845.22288089\n",
      "iteration  20: log likelihood of observed labels = -33358.79457748\n",
      "iteration  30: log likelihood of observed labels = -32691.36859091\n",
      "iteration  40: log likelihood of observed labels = -32278.39876238\n",
      "iteration  50: log likelihood of observed labels = -32014.62636995\n",
      "iteration  60: log likelihood of observed labels = -31842.00253934\n",
      "iteration  70: log likelihood of observed labels = -31726.84707721\n",
      "iteration  80: log likelihood of observed labels = -31648.83194389\n",
      "iteration  90: log likelihood of observed labels = -31595.29982287\n",
      "iteration 100: log likelihood of observed labels = -31558.17036447\n",
      "iteration 200: log likelihood of observed labels = -31470.56892455\n",
      "iteration 300: log likelihood of observed labels = -31466.78290800\n",
      "iteration 400: log likelihood of observed labels = -31466.56180595\n",
      "iteration 500: log likelihood of observed labels = -31466.54672152\n"
     ]
    }
   ],
   "source": [
    "coefficients_1e3_penalty = logistic_regression_with_L2(feature_matrix, sentiment, [0.0]*194, 5e-6, 1e3, 501)"
   ]
  },
  {
   "cell_type": "code",
   "execution_count": 25,
   "metadata": {
    "scrolled": true
   },
   "outputs": [
    {
     "name": "stdout",
     "output_type": "stream",
     "text": [
      "iteration   0: log likelihood of observed labels = -36645.77165560\n",
      "iteration   1: log likelihood of observed labels = -36645.49154027\n",
      "iteration   2: log likelihood of observed labels = -36645.43428902\n",
      "iteration   3: log likelihood of observed labels = -36645.39141083\n",
      "iteration   4: log likelihood of observed labels = -36645.35398921\n",
      "iteration   5: log likelihood of observed labels = -36645.32091656\n",
      "iteration   6: log likelihood of observed labels = -36645.29165939\n",
      "iteration   7: log likelihood of observed labels = -36645.26577562\n",
      "iteration   8: log likelihood of observed labels = -36645.24287619\n",
      "iteration   9: log likelihood of observed labels = -36645.22261698\n",
      "iteration  10: log likelihood of observed labels = -36645.20469360\n",
      "iteration  11: log likelihood of observed labels = -36645.18883672\n",
      "iteration  12: log likelihood of observed labels = -36645.17480809\n",
      "iteration  13: log likelihood of observed labels = -36645.16239692\n",
      "iteration  14: log likelihood of observed labels = -36645.15141671\n",
      "iteration  15: log likelihood of observed labels = -36645.14170249\n",
      "iteration  20: log likelihood of observed labels = -36645.10756217\n",
      "iteration  30: log likelihood of observed labels = -36645.07902988\n",
      "iteration  40: log likelihood of observed labels = -36645.07064853\n",
      "iteration  50: log likelihood of observed labels = -36645.06818650\n",
      "iteration  60: log likelihood of observed labels = -36645.06746328\n",
      "iteration  70: log likelihood of observed labels = -36645.06725083\n",
      "iteration  80: log likelihood of observed labels = -36645.06718842\n",
      "iteration  90: log likelihood of observed labels = -36645.06717009\n",
      "iteration 100: log likelihood of observed labels = -36645.06716471\n",
      "iteration 200: log likelihood of observed labels = -36645.06716247\n",
      "iteration 300: log likelihood of observed labels = -36645.06716247\n",
      "iteration 400: log likelihood of observed labels = -36645.06716247\n",
      "iteration 500: log likelihood of observed labels = -36645.06716247\n"
     ]
    }
   ],
   "source": [
    "coefficients_1e5_penalty = logistic_regression_with_L2(feature_matrix, sentiment, [0.0]*194, 5e-6, 1e5, 501)"
   ]
  },
  {
   "cell_type": "code",
   "execution_count": 26,
   "metadata": {},
   "outputs": [],
   "source": [
    "table = pd.DataFrame({'word':['intercept']+important_words})"
   ]
  },
  {
   "cell_type": "code",
   "execution_count": 27,
   "metadata": {
    "scrolled": true
   },
   "outputs": [
    {
     "data": {
      "text/html": [
       "<div>\n",
       "<style scoped>\n",
       "    .dataframe tbody tr th:only-of-type {\n",
       "        vertical-align: middle;\n",
       "    }\n",
       "\n",
       "    .dataframe tbody tr th {\n",
       "        vertical-align: top;\n",
       "    }\n",
       "\n",
       "    .dataframe thead th {\n",
       "        text-align: right;\n",
       "    }\n",
       "</style>\n",
       "<table border=\"1\" class=\"dataframe\">\n",
       "  <thead>\n",
       "    <tr style=\"text-align: right;\">\n",
       "      <th></th>\n",
       "      <th>word</th>\n",
       "    </tr>\n",
       "  </thead>\n",
       "  <tbody>\n",
       "    <tr>\n",
       "      <th>0</th>\n",
       "      <td>intercept</td>\n",
       "    </tr>\n",
       "    <tr>\n",
       "      <th>1</th>\n",
       "      <td>baby</td>\n",
       "    </tr>\n",
       "    <tr>\n",
       "      <th>2</th>\n",
       "      <td>one</td>\n",
       "    </tr>\n",
       "    <tr>\n",
       "      <th>3</th>\n",
       "      <td>great</td>\n",
       "    </tr>\n",
       "    <tr>\n",
       "      <th>4</th>\n",
       "      <td>love</td>\n",
       "    </tr>\n",
       "    <tr>\n",
       "      <th>5</th>\n",
       "      <td>use</td>\n",
       "    </tr>\n",
       "    <tr>\n",
       "      <th>6</th>\n",
       "      <td>would</td>\n",
       "    </tr>\n",
       "    <tr>\n",
       "      <th>7</th>\n",
       "      <td>like</td>\n",
       "    </tr>\n",
       "    <tr>\n",
       "      <th>8</th>\n",
       "      <td>easy</td>\n",
       "    </tr>\n",
       "    <tr>\n",
       "      <th>9</th>\n",
       "      <td>little</td>\n",
       "    </tr>\n",
       "    <tr>\n",
       "      <th>10</th>\n",
       "      <td>seat</td>\n",
       "    </tr>\n",
       "    <tr>\n",
       "      <th>11</th>\n",
       "      <td>old</td>\n",
       "    </tr>\n",
       "    <tr>\n",
       "      <th>12</th>\n",
       "      <td>well</td>\n",
       "    </tr>\n",
       "    <tr>\n",
       "      <th>13</th>\n",
       "      <td>get</td>\n",
       "    </tr>\n",
       "    <tr>\n",
       "      <th>14</th>\n",
       "      <td>also</td>\n",
       "    </tr>\n",
       "    <tr>\n",
       "      <th>15</th>\n",
       "      <td>really</td>\n",
       "    </tr>\n",
       "    <tr>\n",
       "      <th>16</th>\n",
       "      <td>son</td>\n",
       "    </tr>\n",
       "    <tr>\n",
       "      <th>17</th>\n",
       "      <td>time</td>\n",
       "    </tr>\n",
       "    <tr>\n",
       "      <th>18</th>\n",
       "      <td>bought</td>\n",
       "    </tr>\n",
       "    <tr>\n",
       "      <th>19</th>\n",
       "      <td>product</td>\n",
       "    </tr>\n",
       "    <tr>\n",
       "      <th>20</th>\n",
       "      <td>good</td>\n",
       "    </tr>\n",
       "    <tr>\n",
       "      <th>21</th>\n",
       "      <td>daughter</td>\n",
       "    </tr>\n",
       "    <tr>\n",
       "      <th>22</th>\n",
       "      <td>much</td>\n",
       "    </tr>\n",
       "    <tr>\n",
       "      <th>23</th>\n",
       "      <td>loves</td>\n",
       "    </tr>\n",
       "    <tr>\n",
       "      <th>24</th>\n",
       "      <td>stroller</td>\n",
       "    </tr>\n",
       "    <tr>\n",
       "      <th>25</th>\n",
       "      <td>put</td>\n",
       "    </tr>\n",
       "    <tr>\n",
       "      <th>26</th>\n",
       "      <td>months</td>\n",
       "    </tr>\n",
       "    <tr>\n",
       "      <th>27</th>\n",
       "      <td>car</td>\n",
       "    </tr>\n",
       "    <tr>\n",
       "      <th>28</th>\n",
       "      <td>still</td>\n",
       "    </tr>\n",
       "    <tr>\n",
       "      <th>29</th>\n",
       "      <td>back</td>\n",
       "    </tr>\n",
       "    <tr>\n",
       "      <th>...</th>\n",
       "      <td>...</td>\n",
       "    </tr>\n",
       "    <tr>\n",
       "      <th>164</th>\n",
       "      <td>started</td>\n",
       "    </tr>\n",
       "    <tr>\n",
       "      <th>165</th>\n",
       "      <td>anything</td>\n",
       "    </tr>\n",
       "    <tr>\n",
       "      <th>166</th>\n",
       "      <td>last</td>\n",
       "    </tr>\n",
       "    <tr>\n",
       "      <th>167</th>\n",
       "      <td>company</td>\n",
       "    </tr>\n",
       "    <tr>\n",
       "      <th>168</th>\n",
       "      <td>come</td>\n",
       "    </tr>\n",
       "    <tr>\n",
       "      <th>169</th>\n",
       "      <td>returned</td>\n",
       "    </tr>\n",
       "    <tr>\n",
       "      <th>170</th>\n",
       "      <td>maybe</td>\n",
       "    </tr>\n",
       "    <tr>\n",
       "      <th>171</th>\n",
       "      <td>took</td>\n",
       "    </tr>\n",
       "    <tr>\n",
       "      <th>172</th>\n",
       "      <td>broke</td>\n",
       "    </tr>\n",
       "    <tr>\n",
       "      <th>173</th>\n",
       "      <td>makes</td>\n",
       "    </tr>\n",
       "    <tr>\n",
       "      <th>174</th>\n",
       "      <td>stay</td>\n",
       "    </tr>\n",
       "    <tr>\n",
       "      <th>175</th>\n",
       "      <td>instead</td>\n",
       "    </tr>\n",
       "    <tr>\n",
       "      <th>176</th>\n",
       "      <td>idea</td>\n",
       "    </tr>\n",
       "    <tr>\n",
       "      <th>177</th>\n",
       "      <td>head</td>\n",
       "    </tr>\n",
       "    <tr>\n",
       "      <th>178</th>\n",
       "      <td>said</td>\n",
       "    </tr>\n",
       "    <tr>\n",
       "      <th>179</th>\n",
       "      <td>less</td>\n",
       "    </tr>\n",
       "    <tr>\n",
       "      <th>180</th>\n",
       "      <td>went</td>\n",
       "    </tr>\n",
       "    <tr>\n",
       "      <th>181</th>\n",
       "      <td>working</td>\n",
       "    </tr>\n",
       "    <tr>\n",
       "      <th>182</th>\n",
       "      <td>high</td>\n",
       "    </tr>\n",
       "    <tr>\n",
       "      <th>183</th>\n",
       "      <td>unit</td>\n",
       "    </tr>\n",
       "    <tr>\n",
       "      <th>184</th>\n",
       "      <td>seems</td>\n",
       "    </tr>\n",
       "    <tr>\n",
       "      <th>185</th>\n",
       "      <td>picture</td>\n",
       "    </tr>\n",
       "    <tr>\n",
       "      <th>186</th>\n",
       "      <td>completely</td>\n",
       "    </tr>\n",
       "    <tr>\n",
       "      <th>187</th>\n",
       "      <td>wish</td>\n",
       "    </tr>\n",
       "    <tr>\n",
       "      <th>188</th>\n",
       "      <td>buying</td>\n",
       "    </tr>\n",
       "    <tr>\n",
       "      <th>189</th>\n",
       "      <td>babies</td>\n",
       "    </tr>\n",
       "    <tr>\n",
       "      <th>190</th>\n",
       "      <td>won</td>\n",
       "    </tr>\n",
       "    <tr>\n",
       "      <th>191</th>\n",
       "      <td>tub</td>\n",
       "    </tr>\n",
       "    <tr>\n",
       "      <th>192</th>\n",
       "      <td>almost</td>\n",
       "    </tr>\n",
       "    <tr>\n",
       "      <th>193</th>\n",
       "      <td>either</td>\n",
       "    </tr>\n",
       "  </tbody>\n",
       "</table>\n",
       "<p>194 rows × 1 columns</p>\n",
       "</div>"
      ],
      "text/plain": [
       "           word\n",
       "0     intercept\n",
       "1          baby\n",
       "2           one\n",
       "3         great\n",
       "4          love\n",
       "5           use\n",
       "6         would\n",
       "7          like\n",
       "8          easy\n",
       "9        little\n",
       "10         seat\n",
       "11          old\n",
       "12         well\n",
       "13          get\n",
       "14         also\n",
       "15       really\n",
       "16          son\n",
       "17         time\n",
       "18       bought\n",
       "19      product\n",
       "20         good\n",
       "21     daughter\n",
       "22         much\n",
       "23        loves\n",
       "24     stroller\n",
       "25          put\n",
       "26       months\n",
       "27          car\n",
       "28        still\n",
       "29         back\n",
       "..          ...\n",
       "164     started\n",
       "165    anything\n",
       "166        last\n",
       "167     company\n",
       "168        come\n",
       "169    returned\n",
       "170       maybe\n",
       "171        took\n",
       "172       broke\n",
       "173       makes\n",
       "174        stay\n",
       "175     instead\n",
       "176        idea\n",
       "177        head\n",
       "178        said\n",
       "179        less\n",
       "180        went\n",
       "181     working\n",
       "182        high\n",
       "183        unit\n",
       "184       seems\n",
       "185     picture\n",
       "186  completely\n",
       "187        wish\n",
       "188      buying\n",
       "189      babies\n",
       "190         won\n",
       "191         tub\n",
       "192      almost\n",
       "193      either\n",
       "\n",
       "[194 rows x 1 columns]"
      ]
     },
     "execution_count": 27,
     "metadata": {},
     "output_type": "execute_result"
    }
   ],
   "source": [
    "table"
   ]
  },
  {
   "cell_type": "code",
   "execution_count": 28,
   "metadata": {},
   "outputs": [
    {
     "data": {
      "text/html": [
       "<div>\n",
       "<style scoped>\n",
       "    .dataframe tbody tr th:only-of-type {\n",
       "        vertical-align: middle;\n",
       "    }\n",
       "\n",
       "    .dataframe tbody tr th {\n",
       "        vertical-align: top;\n",
       "    }\n",
       "\n",
       "    .dataframe thead th {\n",
       "        text-align: right;\n",
       "    }\n",
       "</style>\n",
       "<table border=\"1\" class=\"dataframe\">\n",
       "  <thead>\n",
       "    <tr style=\"text-align: right;\">\n",
       "      <th></th>\n",
       "      <th>word</th>\n",
       "      <th>p0</th>\n",
       "      <th>p4</th>\n",
       "      <th>p10</th>\n",
       "      <th>p1e2</th>\n",
       "      <th>p1e3</th>\n",
       "      <th>p1e5</th>\n",
       "    </tr>\n",
       "  </thead>\n",
       "  <tbody>\n",
       "    <tr>\n",
       "      <th>3</th>\n",
       "      <td>great</td>\n",
       "      <td>0.830302</td>\n",
       "      <td>0.825785</td>\n",
       "      <td>0.819134</td>\n",
       "      <td>0.734553</td>\n",
       "      <td>0.417318</td>\n",
       "      <td>0.011273</td>\n",
       "    </tr>\n",
       "    <tr>\n",
       "      <th>34</th>\n",
       "      <td>perfect</td>\n",
       "      <td>0.930688</td>\n",
       "      <td>0.922874</td>\n",
       "      <td>0.911364</td>\n",
       "      <td>0.765112</td>\n",
       "      <td>0.291294</td>\n",
       "      <td>0.004984</td>\n",
       "    </tr>\n",
       "    <tr>\n",
       "      <th>8</th>\n",
       "      <td>easy</td>\n",
       "      <td>1.022798</td>\n",
       "      <td>1.016033</td>\n",
       "      <td>1.006082</td>\n",
       "      <td>0.880706</td>\n",
       "      <td>0.449014</td>\n",
       "      <td>0.011007</td>\n",
       "    </tr>\n",
       "    <tr>\n",
       "      <th>4</th>\n",
       "      <td>love</td>\n",
       "      <td>1.096187</td>\n",
       "      <td>1.088644</td>\n",
       "      <td>1.077549</td>\n",
       "      <td>0.937865</td>\n",
       "      <td>0.464760</td>\n",
       "      <td>0.011230</td>\n",
       "    </tr>\n",
       "    <tr>\n",
       "      <th>23</th>\n",
       "      <td>loves</td>\n",
       "      <td>1.149917</td>\n",
       "      <td>1.140753</td>\n",
       "      <td>1.127262</td>\n",
       "      <td>0.956320</td>\n",
       "      <td>0.396036</td>\n",
       "      <td>0.007596</td>\n",
       "    </tr>\n",
       "  </tbody>\n",
       "</table>\n",
       "</div>"
      ],
      "text/plain": [
       "       word        p0        p4       p10      p1e2      p1e3      p1e5\n",
       "3     great  0.830302  0.825785  0.819134  0.734553  0.417318  0.011273\n",
       "34  perfect  0.930688  0.922874  0.911364  0.765112  0.291294  0.004984\n",
       "8      easy  1.022798  1.016033  1.006082  0.880706  0.449014  0.011007\n",
       "4      love  1.096187  1.088644  1.077549  0.937865  0.464760  0.011230\n",
       "23    loves  1.149917  1.140753  1.127262  0.956320  0.396036  0.007596"
      ]
     },
     "execution_count": 28,
     "metadata": {},
     "output_type": "execute_result"
    }
   ],
   "source": [
    "table['p0'] = coefficients_0_penalty\n",
    "table['p4'] = coefficients_4_penalty\n",
    "table['p10'] = coefficients_10_penalty\n",
    "table['p1e2'] = coefficients_1e2_penalty\n",
    "table['p1e3'] = coefficients_1e3_penalty\n",
    "table['p1e5'] = coefficients_1e5_penalty\n",
    "positive_words = table.sort_values('p0',ascending=False)['word'][0:5]\n",
    "negative_words = table.sort_values('p0',ascending=True)['word'][0:5]\n"
   ]
  },
  {
   "cell_type": "code",
   "execution_count": null,
   "metadata": {},
   "outputs": [],
   "source": [
    "table = table_positive_words + "
   ]
  },
  {
   "cell_type": "code",
   "execution_count": 47,
   "metadata": {},
   "outputs": [],
   "source": [
    "import matplotlib.pyplot as plt\n",
    "%matplotlib inline\n",
    "plt.rcParams['figure.figsize'] = 10, 6\n",
    "\n",
    "def make_coefficient_plot(table, positive_words, negative_words, l2_penalty_list):\n",
    "    cmap_positive = plt.get_cmap('Reds')\n",
    "    cmap_negative = plt.get_cmap('Blues')\n",
    "    \n",
    "    xx = l2_penalty_list\n",
    "    plt.plot(xx, [0.]*len(xx), '--', lw=1, color='k')\n",
    "    \n",
    "    table_positive_words = table[table['word'].isin(positive_words)]\n",
    "    table_negative_words = table[table['word'].isin(negative_words)]\n",
    "    del table_positive_words['word']\n",
    "    del table_negative_words['word']\n",
    "    \n",
    "    for i in range(len(positive_words)):\n",
    "        color = cmap_positive(0.8*((i+1)/(len(positive_words)*1.2)+0.15))\n",
    "        plt.plot(xx, table_positive_words[i:i+1].as_matrix().flatten(),'-', label=positive_words.iloc[:i], linewidth=4.0, color=color)\n",
    "        \n",
    "    for i in range(len(negative_words)):\n",
    "        color = cmap_negative(0.8*((i+1)/(len(negative_words)*1.2)+0.15))\n",
    "        plt.plot(xx, table_negative_words[i:i+1].as_matrix().flatten(),'-', label=negative_words.iloc[:i], linewidth=4.0, color=color)\n",
    "        \n",
    "    plt.legend(loc='best', ncol=3, prop={'size':6}, columnspacing=0.5)\n",
    "    plt.axis([1, 1e5, -1, 2])\n",
    "    plt.title('Coefficient path')\n",
    "    plt.xlabel('L2 penalty ($\\lambda$)')\n",
    "    plt.ylabel('Coefficient value')\n",
    "    plt.xscale('log')\n",
    "    plt.rcParams.update({'font.size': 18})\n",
    "    plt.tight_layout()\n"
   ]
  },
  {
   "cell_type": "code",
   "execution_count": 48,
   "metadata": {},
   "outputs": [
    {
     "name": "stderr",
     "output_type": "stream",
     "text": [
      "/Users/mac/anaconda3/lib/python3.7/site-packages/ipykernel_launcher.py:19: FutureWarning: Method .as_matrix will be removed in a future version. Use .values instead.\n",
      "/Users/mac/anaconda3/lib/python3.7/site-packages/ipykernel_launcher.py:23: FutureWarning: Method .as_matrix will be removed in a future version. Use .values instead.\n"
     ]
    },
    {
     "data": {
      "image/png": "[encoded data removed]",
      "text/plain": [
       "<Figure size 720x432 with 1 Axes>"
      ]
     },
     "metadata": {
      "needs_background": "light"
     },
     "output_type": "display_data"
    }
   ],
   "source": [
    "make_coefficient_plot(table, positive_words, negative_words, l2_penalty_list=[0, 4, 10, 1e2, 1e3, 1e5])"
   ]
  },
  {
   "cell_type": "code",
   "execution_count": 49,
   "metadata": {},
   "outputs": [],
   "source": [
    "predict0 = predict_probability(feature_matrix_train, coefficients_0_penalty)\n",
    "predict4 = predict_probability(feature_matrix_train, coefficients_4_penalty)\n",
    "predict10 = predict_probability(feature_matrix_train, coefficients_10_penalty)\n",
    "predict100 = predict_probability(feature_matrix_train, coefficients_1e2_penalty)\n",
    "predictle3 = predict_probability(feature_matrix_train, coefficients_1e3_penalty)\n",
    "predictle5 = predict_probability(feature_matrix_train, coefficients_1e5_penalty)"
   ]
  },
  {
   "cell_type": "code",
   "execution_count": 81,
   "metadata": {},
   "outputs": [],
   "source": [
    "predict0 = (predict0>0.5)*1\n",
    "predict0[predict0 == 0] = -1\n",
    "\n",
    "predict4 = (predict4>0.5)*1\n",
    "predict4[predict4 == 0] = -1\n",
    "\n",
    "predict10 = (predict10>0.5)*1\n",
    "predict10[predict10 == 0] = -1\n",
    "\n",
    "predict100 = (predict100>0.5)*1\n",
    "predict100[predict100 == 0] = -1\n",
    "\n",
    "predictle3 = (predictle3>0.5)*1\n",
    "predictle3[predictle3 == 0] = -1\n",
    "\n",
    "predictle5 = (predictle5>0.5)*1\n",
    "predictle5[predictle5 == 0] = -1"
   ]
  },
  {
   "cell_type": "code",
   "execution_count": 82,
   "metadata": {},
   "outputs": [
    {
     "name": "stderr",
     "output_type": "stream",
     "text": [
      "/Users/mac/anaconda3/lib/python3.7/site-packages/ipykernel_launcher.py:1: SettingWithCopyWarning: \n",
      "A value is trying to be set on a copy of a slice from a DataFrame.\n",
      "Try using .loc[row_indexer,col_indexer] = value instead\n",
      "\n",
      "See the caveats in the documentation: http://pandas.pydata.org/pandas-docs/stable/indexing.html#indexing-view-versus-copy\n",
      "  \"\"\"Entry point for launching an IPython kernel.\n",
      "/Users/mac/anaconda3/lib/python3.7/site-packages/ipykernel_launcher.py:2: SettingWithCopyWarning: \n",
      "A value is trying to be set on a copy of a slice from a DataFrame.\n",
      "Try using .loc[row_indexer,col_indexer] = value instead\n",
      "\n",
      "See the caveats in the documentation: http://pandas.pydata.org/pandas-docs/stable/indexing.html#indexing-view-versus-copy\n",
      "  \n",
      "/Users/mac/anaconda3/lib/python3.7/site-packages/ipykernel_launcher.py:3: SettingWithCopyWarning: \n",
      "A value is trying to be set on a copy of a slice from a DataFrame.\n",
      "Try using .loc[row_indexer,col_indexer] = value instead\n",
      "\n",
      "See the caveats in the documentation: http://pandas.pydata.org/pandas-docs/stable/indexing.html#indexing-view-versus-copy\n",
      "  This is separate from the ipykernel package so we can avoid doing imports until\n",
      "/Users/mac/anaconda3/lib/python3.7/site-packages/ipykernel_launcher.py:4: SettingWithCopyWarning: \n",
      "A value is trying to be set on a copy of a slice from a DataFrame.\n",
      "Try using .loc[row_indexer,col_indexer] = value instead\n",
      "\n",
      "See the caveats in the documentation: http://pandas.pydata.org/pandas-docs/stable/indexing.html#indexing-view-versus-copy\n",
      "  after removing the cwd from sys.path.\n",
      "/Users/mac/anaconda3/lib/python3.7/site-packages/ipykernel_launcher.py:5: SettingWithCopyWarning: \n",
      "A value is trying to be set on a copy of a slice from a DataFrame.\n",
      "Try using .loc[row_indexer,col_indexer] = value instead\n",
      "\n",
      "See the caveats in the documentation: http://pandas.pydata.org/pandas-docs/stable/indexing.html#indexing-view-versus-copy\n",
      "  \"\"\"\n",
      "/Users/mac/anaconda3/lib/python3.7/site-packages/ipykernel_launcher.py:6: SettingWithCopyWarning: \n",
      "A value is trying to be set on a copy of a slice from a DataFrame.\n",
      "Try using .loc[row_indexer,col_indexer] = value instead\n",
      "\n",
      "See the caveats in the documentation: http://pandas.pydata.org/pandas-docs/stable/indexing.html#indexing-view-versus-copy\n",
      "  \n"
     ]
    }
   ],
   "source": [
    "train_data['coefficients_0_penalty'] = predict0\n",
    "train_data['coefficients_4_penalty'] = predict4\n",
    "train_data['coefficients_10_penalty'] = predict10\n",
    "train_data['coefficients_1e2_penalty'] = predict100\n",
    "train_data['coefficients_1e3_penalty'] = predictle3\n",
    "train_data['coefficients_1e5_penalty'] = predictle5"
   ]
  },
  {
   "cell_type": "code",
   "execution_count": 83,
   "metadata": {},
   "outputs": [
    {
     "name": "stdout",
     "output_type": "stream",
     "text": [
      "0.7867378012794788\n",
      "0.7866433748022945\n",
      "0.7865017350865182\n",
      "0.7851089445480512\n",
      "0.7753830173980785\n",
      "0.7149972852387809\n"
     ]
    }
   ],
   "source": [
    "print(sum(train_data['coefficients_0_penalty']==train_data['sentiment'])/len(train_data))\n",
    "print(sum(train_data['coefficients_4_penalty']==train_data['sentiment'])/len(train_data))\n",
    "print(sum(train_data['coefficients_10_penalty']==train_data['sentiment'])/len(train_data))\n",
    "print(sum(train_data['coefficients_1e2_penalty']==train_data['sentiment'])/len(train_data))\n",
    "print(sum(train_data['coefficients_1e3_penalty']==train_data['sentiment'])/len(train_data))\n",
    "print(sum(train_data['coefficients_1e5_penalty']==train_data['sentiment'])/len(train_data))"
   ]
  },
  {
   "cell_type": "code",
   "execution_count": 84,
   "metadata": {},
   "outputs": [
    {
     "name": "stdout",
     "output_type": "stream",
     "text": [
      "0.7856409298851648\n",
      "0.7857342918495005\n",
      "0.785547567920829\n",
      "0.7848006722061432\n",
      "0.7758379236299132\n",
      "0.7053496405564373\n"
     ]
    },
    {
     "name": "stderr",
     "output_type": "stream",
     "text": [
      "/Users/mac/anaconda3/lib/python3.7/site-packages/ipykernel_launcher.py:26: SettingWithCopyWarning: \n",
      "A value is trying to be set on a copy of a slice from a DataFrame.\n",
      "Try using .loc[row_indexer,col_indexer] = value instead\n",
      "\n",
      "See the caveats in the documentation: http://pandas.pydata.org/pandas-docs/stable/indexing.html#indexing-view-versus-copy\n",
      "/Users/mac/anaconda3/lib/python3.7/site-packages/ipykernel_launcher.py:27: SettingWithCopyWarning: \n",
      "A value is trying to be set on a copy of a slice from a DataFrame.\n",
      "Try using .loc[row_indexer,col_indexer] = value instead\n",
      "\n",
      "See the caveats in the documentation: http://pandas.pydata.org/pandas-docs/stable/indexing.html#indexing-view-versus-copy\n",
      "/Users/mac/anaconda3/lib/python3.7/site-packages/ipykernel_launcher.py:28: SettingWithCopyWarning: \n",
      "A value is trying to be set on a copy of a slice from a DataFrame.\n",
      "Try using .loc[row_indexer,col_indexer] = value instead\n",
      "\n",
      "See the caveats in the documentation: http://pandas.pydata.org/pandas-docs/stable/indexing.html#indexing-view-versus-copy\n",
      "/Users/mac/anaconda3/lib/python3.7/site-packages/ipykernel_launcher.py:29: SettingWithCopyWarning: \n",
      "A value is trying to be set on a copy of a slice from a DataFrame.\n",
      "Try using .loc[row_indexer,col_indexer] = value instead\n",
      "\n",
      "See the caveats in the documentation: http://pandas.pydata.org/pandas-docs/stable/indexing.html#indexing-view-versus-copy\n",
      "/Users/mac/anaconda3/lib/python3.7/site-packages/ipykernel_launcher.py:30: SettingWithCopyWarning: \n",
      "A value is trying to be set on a copy of a slice from a DataFrame.\n",
      "Try using .loc[row_indexer,col_indexer] = value instead\n",
      "\n",
      "See the caveats in the documentation: http://pandas.pydata.org/pandas-docs/stable/indexing.html#indexing-view-versus-copy\n",
      "/Users/mac/anaconda3/lib/python3.7/site-packages/ipykernel_launcher.py:31: SettingWithCopyWarning: \n",
      "A value is trying to be set on a copy of a slice from a DataFrame.\n",
      "Try using .loc[row_indexer,col_indexer] = value instead\n",
      "\n",
      "See the caveats in the documentation: http://pandas.pydata.org/pandas-docs/stable/indexing.html#indexing-view-versus-copy\n"
     ]
    }
   ],
   "source": [
    "predict0 = predict_probability(feature_matrix_valid, coefficients_0_penalty)\n",
    "predict4 = predict_probability(feature_matrix_valid, coefficients_4_penalty)\n",
    "predict10 = predict_probability(feature_matrix_valid, coefficients_10_penalty)\n",
    "predict100 = predict_probability(feature_matrix_valid, coefficients_1e2_penalty)\n",
    "predictle3 = predict_probability(feature_matrix_valid, coefficients_1e3_penalty)\n",
    "predictle5 = predict_probability(feature_matrix_valid, coefficients_1e5_penalty)\n",
    "\n",
    "predict0 = (predict0>0.5)*1\n",
    "predict0[predict0 == 0] = -1\n",
    "\n",
    "predict4 = (predict4>0.5)*1\n",
    "predict4[predict4 == 0] = -1\n",
    "\n",
    "predict10 = (predict10>0.5)*1\n",
    "predict10[predict10 == 0] = -1\n",
    "\n",
    "predict100 = (predict100>0.5)*1\n",
    "predict100[predict100 == 0] = -1\n",
    "\n",
    "predictle3 = (predictle3>0.5)*1\n",
    "predictle3[predictle3 == 0] = -1\n",
    "\n",
    "predictle5 = (predictle5>0.5)*1\n",
    "predictle5[predictle5 == 0] = -1\n",
    "\n",
    "validation_data['coefficients_0_penalty'] = predict0\n",
    "validation_data['coefficients_4_penalty'] = predict4\n",
    "validation_data['coefficients_10_penalty'] = predict10\n",
    "validation_data['coefficients_1e2_penalty'] = predict100\n",
    "validation_data['coefficients_1e3_penalty'] = predictle3\n",
    "validation_data['coefficients_1e5_penalty'] = predictle5\n",
    "\n",
    "print(sum(validation_data['coefficients_0_penalty']==validation_data['sentiment'])/len(validation_data))\n",
    "print(sum(validation_data['coefficients_4_penalty']==validation_data['sentiment'])/len(validation_data))\n",
    "print(sum(validation_data['coefficients_10_penalty']==validation_data['sentiment'])/len(validation_data))\n",
    "print(sum(validation_data['coefficients_1e2_penalty']==validation_data['sentiment'])/len(validation_data))\n",
    "print(sum(validation_data['coefficients_1e3_penalty']==validation_data['sentiment'])/len(validation_data))\n",
    "print(sum(validation_data['coefficients_1e5_penalty']==validation_data['sentiment'])/len(validation_data))\n"
   ]
  },
  {
   "cell_type": "code",
   "execution_count": null,
   "metadata": {},
   "outputs": [],
   "source": []
  }
 ],
 "metadata": {
  "kernelspec": {
   "display_name": "Python 3",
   "language": "python",
   "name": "python3"
  },
  "language_info": {
   "codemirror_mode": {
    "name": "ipython",
    "version": 3
   },
   "file_extension": ".py",
   "mimetype": "text/x-python",
   "name": "python",
   "nbconvert_exporter": "python",
   "pygments_lexer": "ipython3",
   "version": "3.7.0"
  }
 },
 "nbformat": 4,
 "nbformat_minor": 2
}
