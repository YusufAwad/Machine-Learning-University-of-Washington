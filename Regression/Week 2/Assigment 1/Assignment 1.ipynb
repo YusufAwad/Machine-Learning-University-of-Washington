{
 "cells": [
  {
   "cell_type": "code",
   "execution_count": 3,
   "metadata": {},
   "outputs": [],
   "source": [
    "import pandas as pd\n",
    "import math\n",
    "import numpy as np\n",
    "from sklearn.linear_model import LinearRegression"
   ]
  },
  {
   "cell_type": "code",
   "execution_count": 4,
   "metadata": {},
   "outputs": [],
   "source": [
    "train = pd.read_csv('kc_house_train_data.csv',dtype = {'bathrooms':float, 'waterfront':int, 'sqft_above':int, 'sqft_living15':float, 'grade':int, 'yr_renovated':int, 'price':float, 'bedrooms':float, 'zipcode':str, 'long':float, 'sqft_lot15':float, 'sqft_living':float, 'floors':str, 'condition':int, 'lat':float, 'date':str, 'sqft_basement':int, 'yr_built':int, 'id':str, 'sqft_lot':int, 'view':int})"
   ]
  },
  {
   "cell_type": "code",
   "execution_count": 5,
   "metadata": {},
   "outputs": [],
   "source": [
    "test = pd.read_csv('kc_house_test_data.csv',dtype = {'bathrooms':float, 'waterfront':int, 'sqft_above':int, 'sqft_living15':float, 'grade':int, 'yr_renovated':int, 'price':float, 'bedrooms':float, 'zipcode':str, 'long':float, 'sqft_lot15':float, 'sqft_living':float, 'floors':str, 'condition':int, 'lat':float, 'date':str, 'sqft_basement':int, 'yr_built':int, 'id':str, 'sqft_lot':int, 'view':int})"
   ]
  },
  {
   "cell_type": "code",
   "execution_count": 6,
   "metadata": {},
   "outputs": [],
   "source": [
    "train['bedrooms_squared'] = train['bedrooms']**2\n",
    "test['bedrooms_squared'] = test['bedrooms']**2\n",
    "\n",
    "train['bed_bath_rooms'] = train['bedrooms']*train['bathrooms']\n",
    "test['bed_bath_rooms'] = test['bedrooms']*test['bathrooms']\n",
    "\n",
    "train['log_sqft_living'] = np.log(train['sqft_living'])\n",
    "test['log_sqft_living'] =  np.log(test['sqft_living'])\n",
    "\n",
    "train['lat_plus_long'] = train['lat']+train['long']\n",
    "test['lat_plus_long'] = test['lat']+test['long']"
   ]
  },
  {
   "cell_type": "code",
   "execution_count": 7,
   "metadata": {},
   "outputs": [
    {
     "name": "stdout",
     "output_type": "stream",
     "text": [
      "12.4466777015843\n",
      "7.5039016315913925\n",
      "7.550274679645921\n",
      "-74.65333355403185\n"
     ]
    }
   ],
   "source": [
    "print(test['bedrooms_squared'].mean())\n",
    "print(test['bed_bath_rooms'].mean())\n",
    "print(test['log_sqft_living'].mean())\n",
    "print(test['lat_plus_long'].mean())"
   ]
  },
  {
   "cell_type": "code",
   "execution_count": 8,
   "metadata": {},
   "outputs": [],
   "source": [
    "y_train = train[['price']]\n",
    "x_model1 = train[['sqft_living']+['bedrooms']+['lat']+['long']+['bathrooms']]\n",
    "x_model2 = train[['sqft_living']+['bedrooms']+['lat']+['long']+['bathrooms']+['bed_bath_rooms']]\n",
    "x_model3 = train[['sqft_living']+['bedrooms']+['lat']+['long']+['bathrooms']+['bedrooms_squared']+['log_sqft_living']+['lat_plus_long']+['bed_bath_rooms']]"
   ]
  },
  {
   "cell_type": "code",
   "execution_count": 9,
   "metadata": {},
   "outputs": [
    {
     "data": {
      "text/plain": [
       "LinearRegression(copy_X=True, fit_intercept=True, n_jobs=None, normalize=False)"
      ]
     },
     "execution_count": 9,
     "metadata": {},
     "output_type": "execute_result"
    }
   ],
   "source": [
    "model_1 = LinearRegression()\n",
    "model_2 = LinearRegression()\n",
    "model_3 = LinearRegression()\n",
    "model_1.fit(x_model1,y_train)\n",
    "model_2.fit(x_model2,y_train)\n",
    "model_3.fit(x_model3,y_train)"
   ]
  },
  {
   "cell_type": "code",
   "execution_count": 10,
   "metadata": {},
   "outputs": [],
   "source": [
    "def get_coef(x,coef):\n",
    "    for i in range(len(x)):\n",
    "        print (x[i],coef[0][i])"
   ]
  },
  {
   "cell_type": "code",
   "execution_count": 11,
   "metadata": {},
   "outputs": [
    {
     "name": "stdout",
     "output_type": "stream",
     "text": [
      "sqft_living 312.2586462732027\n",
      "bedrooms -59586.53315361218\n",
      "lat 658619.2639305167\n",
      "long -309374.35126823443\n",
      "bathrooms 15706.742082734592\n"
     ]
    }
   ],
   "source": [
    "get_coef(list(x_model1),model_1.coef_)"
   ]
  },
  {
   "cell_type": "code",
   "execution_count": 12,
   "metadata": {},
   "outputs": [
    {
     "name": "stdout",
     "output_type": "stream",
     "text": [
      "sqft_living 306.61005345899565\n",
      "bedrooms -113446.36807020368\n",
      "lat 654844.6295033018\n",
      "long -294298.96913812036\n",
      "bathrooms -71461.3082927601\n",
      "bed_bath_rooms 25579.652000752292\n"
     ]
    }
   ],
   "source": [
    "get_coef(list(x_model2),model_2.coef_)"
   ]
  },
  {
   "cell_type": "code",
   "execution_count": 13,
   "metadata": {},
   "outputs": [
    {
     "name": "stdout",
     "output_type": "stream",
     "text": [
      "sqft_living 529.4228196465247\n",
      "bedrooms 34514.229577990205\n",
      "lat 534085.6108674952\n",
      "long -406750.7108610399\n",
      "bathrooms 67060.78131891074\n",
      "bedrooms_squared -6788.58667034051\n",
      "log_sqft_living -561831.4840755222\n",
      "lat_plus_long 127334.90000645551\n",
      "bed_bath_rooms -8570.504394629988\n"
     ]
    }
   ],
   "source": [
    "get_coef(list(x_model3),model_3.coef_)"
   ]
  },
  {
   "cell_type": "code",
   "execution_count": 15,
   "metadata": {},
   "outputs": [
    {
     "name": "stdout",
     "output_type": "stream",
     "text": [
      "price    9.678800e+14\n",
      "dtype: float64\n"
     ]
    }
   ],
   "source": [
    "RSS_train1 = ((model_1.predict(x_model1.values)-y_train)**2).sum()\n",
    "print(RSS_train1)"
   ]
  },
  {
   "cell_type": "code",
   "execution_count": 16,
   "metadata": {},
   "outputs": [
    {
     "name": "stdout",
     "output_type": "stream",
     "text": [
      "price    9.584196e+14\n",
      "dtype: float64\n"
     ]
    }
   ],
   "source": [
    "RSS_train2 = ((model_2.predict(x_model2.values)-y_train)**2).sum()\n",
    "print(RSS_train2)"
   ]
  },
  {
   "cell_type": "code",
   "execution_count": 17,
   "metadata": {},
   "outputs": [
    {
     "name": "stdout",
     "output_type": "stream",
     "text": [
      "price    9.034365e+14\n",
      "dtype: float64\n"
     ]
    }
   ],
   "source": [
    "RSS_train3 = ((model_3.predict(x_model3.values)-y_train)**2).sum()\n",
    "print(RSS_train3)"
   ]
  },
  {
   "cell_type": "code",
   "execution_count": 27,
   "metadata": {},
   "outputs": [],
   "source": [
    "y_test = test[['price']]\n",
    "x_test1 = test[['sqft_living']+['bedrooms']+['lat']+['long']+['bathrooms']]\n",
    "x_test2 = test[['sqft_living']+['bedrooms']+['lat']+['long']+['bathrooms']+['bed_bath_rooms']]\n",
    "x_test3 = test[['sqft_living']+['bedrooms']+['lat']+['long']+['bathrooms']+['bedrooms_squared']+['log_sqft_living']+['lat_plus_long']+['bed_bath_rooms']]"
   ]
  },
  {
   "cell_type": "code",
   "execution_count": 34,
   "metadata": {},
   "outputs": [
    {
     "name": "stdout",
     "output_type": "stream",
     "text": [
      "price    2.255005e+14\n",
      "dtype: float64\n"
     ]
    }
   ],
   "source": [
    "RSS_test1 = ((model_1.predict(x_test1.values)-y_test)**2).sum()\n",
    "print(RSS_test1)"
   ]
  },
  {
   "cell_type": "code",
   "execution_count": 35,
   "metadata": {},
   "outputs": [
    {
     "name": "stdout",
     "output_type": "stream",
     "text": [
      "price    2.233775e+14\n",
      "dtype: float64\n"
     ]
    }
   ],
   "source": [
    "RSS_test2 = ((model_2.predict(x_test2.values)-y_test)**2).sum()\n",
    "print(RSS_test2)"
   ]
  },
  {
   "cell_type": "code",
   "execution_count": 37,
   "metadata": {},
   "outputs": [
    {
     "name": "stdout",
     "output_type": "stream",
     "text": [
      "price    2.592363e+14\n",
      "dtype: float64\n"
     ]
    }
   ],
   "source": [
    "RSS_test3 = ((model_3.predict(x_test3.values)-y_test)**2).sum()\n",
    "print(RSS_test3)"
   ]
  },
  {
   "cell_type": "code",
   "execution_count": null,
   "metadata": {},
   "outputs": [],
   "source": []
  }
 ],
 "metadata": {
  "kernelspec": {
   "display_name": "Python 3",
   "language": "python",
   "name": "python3"
  },
  "language_info": {
   "codemirror_mode": {
    "name": "ipython",
    "version": 3
   },
   "file_extension": ".py",
   "mimetype": "text/x-python",
   "name": "python",
   "nbconvert_exporter": "python",
   "pygments_lexer": "ipython3",
   "version": "3.7.0"
  }
 },
 "nbformat": 4,
 "nbformat_minor": 2
}
