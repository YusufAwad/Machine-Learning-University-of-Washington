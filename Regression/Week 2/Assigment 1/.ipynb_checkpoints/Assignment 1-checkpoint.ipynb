{
 "cells": [
  {
   "cell_type": "code",
   "execution_count": 7,
   "metadata": {},
   "outputs": [],
   "source": [
    "import pandas as pd\n",
    "import math\n",
    "import numpy as np\n",
    "from sklearn.linear_model import LinearRegression"
   ]
  },
  {
   "cell_type": "code",
   "execution_count": 17,
   "metadata": {},
   "outputs": [],
   "source": [
    "train = pd.read_csv('kc_house_train_data.csv',dtype = {'bathrooms':float, 'waterfront':int, 'sqft_above':int, 'sqft_living15':float, 'grade':int, 'yr_renovated':int, 'price':float, 'bedrooms':float, 'zipcode':str, 'long':float, 'sqft_lot15':float, 'sqft_living':float, 'floors':str, 'condition':int, 'lat':float, 'date':str, 'sqft_basement':int, 'yr_built':int, 'id':str, 'sqft_lot':int, 'view':int})"
   ]
  },
  {
   "cell_type": "code",
   "execution_count": 18,
   "metadata": {},
   "outputs": [],
   "source": [
    "test = pd.read_csv('kc_house_test_data.csv',dtype = {'bathrooms':float, 'waterfront':int, 'sqft_above':int, 'sqft_living15':float, 'grade':int, 'yr_renovated':int, 'price':float, 'bedrooms':float, 'zipcode':str, 'long':float, 'sqft_lot15':float, 'sqft_living':float, 'floors':str, 'condition':int, 'lat':float, 'date':str, 'sqft_basement':int, 'yr_built':int, 'id':str, 'sqft_lot':int, 'view':int})"
   ]
  },
  {
   "cell_type": "code",
   "execution_count": 19,
   "metadata": {},
   "outputs": [],
   "source": [
    "train['bedrooms_squared'] = train['bedrooms']**2\n",
    "test['bedrooms_squared'] = test['bedrooms']**2\n",
    "\n",
    "train['bed_bath_rooms'] = train['bedrooms']*train['bathrooms']\n",
    "test['bed_bath_rooms'] = test['bedrooms']*test['bathrooms']\n",
    "\n",
    "train['log_sqft_living'] = np.log(train['sqft_living'])\n",
    "test['log_sqft_living'] =  np.log(test['sqft_living'])\n",
    "\n",
    "train['lat_plus_long'] = train['lat']+train['long']\n",
    "test['lat_plus_long'] = test['lat']+test['long']"
   ]
  },
  {
   "cell_type": "code",
   "execution_count": 20,
   "metadata": {},
   "outputs": [
    {
     "name": "stdout",
     "output_type": "stream",
     "text": [
      "12.4466777015843\n",
      "7.5039016315913925\n",
      "7.550274679645921\n",
      "-74.65333355403185\n"
     ]
    }
   ],
   "source": [
    "print(test['bedrooms_squared'].mean())\n",
    "print(test['bed_bath_rooms'].mean())\n",
    "print(test['log_sqft_living'].mean())\n",
    "print(test['lat_plus_long'].mean())"
   ]
  },
  {
   "cell_type": "code",
   "execution_count": 21,
   "metadata": {},
   "outputs": [],
   "source": [
    "y_train = train[['price']]\n",
    "x_model1 = train[['sqft_living']+['bedrooms']+['lat']+['long']+['bathrooms']]\n",
    "x_model2 = train[['sqft_living']+['bedrooms']+['lat']+['long']+['bathrooms']+['bed_bath_rooms']]\n",
    "x_model3 = train[['sqft_living']+['bedrooms']+['lat']+['long']+['bathrooms']+['bedrooms_squared']+['log_sqft_living']+['lat_plus_long']+['bed_bath_rooms']]"
   ]
  },
  {
   "cell_type": "code",
   "execution_count": 22,
   "metadata": {},
   "outputs": [
    {
     "data": {
      "text/plain": [
       "LinearRegression(copy_X=True, fit_intercept=True, n_jobs=None, normalize=False)"
      ]
     },
     "execution_count": 22,
     "metadata": {},
     "output_type": "execute_result"
    }
   ],
   "source": [
    "model_1 = LinearRegression()\n",
    "model_2 = LinearRegression()\n",
    "model_3 = LinearRegression()\n",
    "model_1.fit(x_model1,y_train)\n",
    "model_2.fit(x_model2,y_train)\n",
    "model_3.fit(x_model3,y_train)"
   ]
  },
  {
   "cell_type": "code",
   "execution_count": null,
   "metadata": {},
   "outputs": [],
   "source": []
  }
 ],
 "metadata": {
  "kernelspec": {
   "display_name": "Python 3",
   "language": "python",
   "name": "python3"
  },
  "language_info": {
   "codemirror_mode": {
    "name": "ipython",
    "version": 3
   },
   "file_extension": ".py",
   "mimetype": "text/x-python",
   "name": "python",
   "nbconvert_exporter": "python",
   "pygments_lexer": "ipython3",
   "version": "3.7.0"
  }
 },
 "nbformat": 4,
 "nbformat_minor": 2
}
