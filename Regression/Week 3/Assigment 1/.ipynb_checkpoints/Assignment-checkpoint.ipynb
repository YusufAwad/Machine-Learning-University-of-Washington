{
 "cells": [
  {
   "cell_type": "code",
   "execution_count": 25,
   "metadata": {},
   "outputs": [],
   "source": [
    "import pandas as pd\n",
    "import numpy as np\n",
    "from sklearn import linear_model\n",
    "import matplotlib.pyplot as plt"
   ]
  },
  {
   "cell_type": "code",
   "execution_count": 5,
   "metadata": {},
   "outputs": [],
   "source": [
    "dtype_dict = {'bathrooms':float, 'waterfront':int, 'sqft_above':int, 'sqft_living15':float, 'grade':int, 'yr_renovated':int, 'price':float, 'bedrooms':float, 'zipcode':str, 'long':float, 'sqft_lot15':float, 'sqft_living':float, 'floors':str, 'condition':int, 'lat':float, 'date':str, 'sqft_basement':int, 'yr_built':int, 'id':str, 'sqft_lot':int, 'view':int}"
   ]
  },
  {
   "cell_type": "code",
   "execution_count": 59,
   "metadata": {},
   "outputs": [],
   "source": [
    "def polynomial_dataframe(feature, degree=3):\n",
    "    poly_dataframe = pd.DataFrame()\n",
    "    poly_dataframe['power_1'] = feature  \n",
    "    if degree > 1:\n",
    "        for power in range(2, degree+1):\n",
    "            name = 'power_' + str(power)\n",
    "            poly_dataframe[name] = feature**power\n",
    "    return poly_dataframe"
   ]
  },
  {
   "cell_type": "code",
   "execution_count": 8,
   "metadata": {},
   "outputs": [],
   "source": [
    "sales = pd.read_csv('kc_house_data.csv', dtype=dtype_dict)\n",
    "sales = sales.sort_values(['sqft_living','price'])"
   ]
  },
  {
   "cell_type": "code",
   "execution_count": 9,
   "metadata": {},
   "outputs": [],
   "source": [
    "poly1_data = polynomial_dataframe(sales['sqft_living'], 1)"
   ]
  },
  {
   "cell_type": "code",
   "execution_count": 10,
   "metadata": {},
   "outputs": [],
   "source": [
    "poly1_data['price'] = sales['price']"
   ]
  },
  {
   "cell_type": "code",
   "execution_count": 20,
   "metadata": {},
   "outputs": [],
   "source": [
    "lin_modl = linear_model.LinearRegression()\n"
   ]
  },
  {
   "cell_type": "code",
   "execution_count": 23,
   "metadata": {},
   "outputs": [
    {
     "data": {
      "text/plain": [
       "LinearRegression(copy_X=True, fit_intercept=True, n_jobs=None, normalize=False)"
      ]
     },
     "execution_count": 23,
     "metadata": {},
     "output_type": "execute_result"
    }
   ],
   "source": [
    "lin_modl.fit(poly1_data[['power_1']], poly1_data[['price']])"
   ]
  },
  {
   "cell_type": "code",
   "execution_count": 24,
   "metadata": {},
   "outputs": [
    {
     "data": {
      "text/plain": [
       "array([[  37800.09159579],\n",
       "       [  60249.97702758],\n",
       "       [  63056.21270656],\n",
       "       ...,\n",
       "       [2773879.8785959 ],\n",
       "       [3337933.25006977],\n",
       "       [3756062.36623697]])"
      ]
     },
     "execution_count": 24,
     "metadata": {},
     "output_type": "execute_result"
    }
   ],
   "source": [
    "lin_modl.predict(poly1_data[['power_1']].values)"
   ]
  },
  {
   "cell_type": "code",
   "execution_count": 27,
   "metadata": {},
   "outputs": [
    {
     "data": {
      "text/plain": [
       "[<matplotlib.lines.Line2D at 0x1a1fa33a58>,\n",
       " <matplotlib.lines.Line2D at 0x1a1fa33e80>]"
      ]
     },
     "execution_count": 27,
     "metadata": {},
     "output_type": "execute_result"
    },
    {
     "data": {
      "image/png": "[encoded data removed]",
      "text/plain": [
       "<Figure size 432x288 with 1 Axes>"
      ]
     },
     "metadata": {
      "needs_background": "light"
     },
     "output_type": "display_data"
    }
   ],
   "source": [
    "%matplotlib inline\n",
    "plt.plot(poly1_data['power_1'], poly1_data['price'], '.', poly1_data['power_1'], lin_modl.predict(poly1_data[['power_1']]), '-')"
   ]
  },
  {
   "cell_type": "code",
   "execution_count": 62,
   "metadata": {},
   "outputs": [
    {
     "data": {
      "text/html": [
       "<div>\n",
       "<style scoped>\n",
       "    .dataframe tbody tr th:only-of-type {\n",
       "        vertical-align: middle;\n",
       "    }\n",
       "\n",
       "    .dataframe tbody tr th {\n",
       "        vertical-align: top;\n",
       "    }\n",
       "\n",
       "    .dataframe thead th {\n",
       "        text-align: right;\n",
       "    }\n",
       "</style>\n",
       "<table border=\"1\" class=\"dataframe\">\n",
       "  <thead>\n",
       "    <tr style=\"text-align: right;\">\n",
       "      <th></th>\n",
       "      <th>power_1</th>\n",
       "      <th>power_2</th>\n",
       "      <th>price</th>\n",
       "    </tr>\n",
       "  </thead>\n",
       "  <tbody>\n",
       "    <tr>\n",
       "      <th>19452</th>\n",
       "      <td>290.0</td>\n",
       "      <td>84100.0</td>\n",
       "      <td>142000.0</td>\n",
       "    </tr>\n",
       "    <tr>\n",
       "      <th>15381</th>\n",
       "      <td>370.0</td>\n",
       "      <td>136900.0</td>\n",
       "      <td>276000.0</td>\n",
       "    </tr>\n",
       "    <tr>\n",
       "      <th>860</th>\n",
       "      <td>380.0</td>\n",
       "      <td>144400.0</td>\n",
       "      <td>245000.0</td>\n",
       "    </tr>\n",
       "    <tr>\n",
       "      <th>18379</th>\n",
       "      <td>384.0</td>\n",
       "      <td>147456.0</td>\n",
       "      <td>265000.0</td>\n",
       "    </tr>\n",
       "    <tr>\n",
       "      <th>4868</th>\n",
       "      <td>390.0</td>\n",
       "      <td>152100.0</td>\n",
       "      <td>228000.0</td>\n",
       "    </tr>\n",
       "    <tr>\n",
       "      <th>21332</th>\n",
       "      <td>390.0</td>\n",
       "      <td>152100.0</td>\n",
       "      <td>245000.0</td>\n",
       "    </tr>\n",
       "    <tr>\n",
       "      <th>8623</th>\n",
       "      <td>410.0</td>\n",
       "      <td>168100.0</td>\n",
       "      <td>325000.0</td>\n",
       "    </tr>\n",
       "    <tr>\n",
       "      <th>11500</th>\n",
       "      <td>420.0</td>\n",
       "      <td>176400.0</td>\n",
       "      <td>229050.0</td>\n",
       "    </tr>\n",
       "    <tr>\n",
       "      <th>14466</th>\n",
       "      <td>420.0</td>\n",
       "      <td>176400.0</td>\n",
       "      <td>280000.0</td>\n",
       "    </tr>\n",
       "    <tr>\n",
       "      <th>465</th>\n",
       "      <td>430.0</td>\n",
       "      <td>184900.0</td>\n",
       "      <td>80000.0</td>\n",
       "    </tr>\n",
       "    <tr>\n",
       "      <th>1168</th>\n",
       "      <td>440.0</td>\n",
       "      <td>193600.0</td>\n",
       "      <td>290000.0</td>\n",
       "    </tr>\n",
       "    <tr>\n",
       "      <th>18052</th>\n",
       "      <td>460.0</td>\n",
       "      <td>211600.0</td>\n",
       "      <td>247000.0</td>\n",
       "    </tr>\n",
       "    <tr>\n",
       "      <th>12075</th>\n",
       "      <td>470.0</td>\n",
       "      <td>220900.0</td>\n",
       "      <td>156000.0</td>\n",
       "    </tr>\n",
       "    <tr>\n",
       "      <th>15248</th>\n",
       "      <td>470.0</td>\n",
       "      <td>220900.0</td>\n",
       "      <td>192500.0</td>\n",
       "    </tr>\n",
       "    <tr>\n",
       "      <th>17394</th>\n",
       "      <td>480.0</td>\n",
       "      <td>230400.0</td>\n",
       "      <td>145000.0</td>\n",
       "    </tr>\n",
       "    <tr>\n",
       "      <th>8133</th>\n",
       "      <td>480.0</td>\n",
       "      <td>230400.0</td>\n",
       "      <td>170000.0</td>\n",
       "    </tr>\n",
       "    <tr>\n",
       "      <th>4203</th>\n",
       "      <td>490.0</td>\n",
       "      <td>240100.0</td>\n",
       "      <td>150000.0</td>\n",
       "    </tr>\n",
       "    <tr>\n",
       "      <th>4651</th>\n",
       "      <td>500.0</td>\n",
       "      <td>250000.0</td>\n",
       "      <td>125000.0</td>\n",
       "    </tr>\n",
       "    <tr>\n",
       "      <th>2141</th>\n",
       "      <td>520.0</td>\n",
       "      <td>270400.0</td>\n",
       "      <td>82500.0</td>\n",
       "    </tr>\n",
       "    <tr>\n",
       "      <th>3223</th>\n",
       "      <td>520.0</td>\n",
       "      <td>270400.0</td>\n",
       "      <td>262000.0</td>\n",
       "    </tr>\n",
       "    <tr>\n",
       "      <th>18059</th>\n",
       "      <td>520.0</td>\n",
       "      <td>270400.0</td>\n",
       "      <td>275000.0</td>\n",
       "    </tr>\n",
       "    <tr>\n",
       "      <th>2930</th>\n",
       "      <td>520.0</td>\n",
       "      <td>270400.0</td>\n",
       "      <td>295000.0</td>\n",
       "    </tr>\n",
       "    <tr>\n",
       "      <th>6779</th>\n",
       "      <td>520.0</td>\n",
       "      <td>270400.0</td>\n",
       "      <td>310000.0</td>\n",
       "    </tr>\n",
       "    <tr>\n",
       "      <th>9641</th>\n",
       "      <td>520.0</td>\n",
       "      <td>270400.0</td>\n",
       "      <td>330000.0</td>\n",
       "    </tr>\n",
       "    <tr>\n",
       "      <th>12484</th>\n",
       "      <td>530.0</td>\n",
       "      <td>280900.0</td>\n",
       "      <td>238000.0</td>\n",
       "    </tr>\n",
       "    <tr>\n",
       "      <th>3582</th>\n",
       "      <td>530.0</td>\n",
       "      <td>280900.0</td>\n",
       "      <td>355000.0</td>\n",
       "    </tr>\n",
       "    <tr>\n",
       "      <th>7017</th>\n",
       "      <td>530.0</td>\n",
       "      <td>280900.0</td>\n",
       "      <td>400000.0</td>\n",
       "    </tr>\n",
       "    <tr>\n",
       "      <th>14450</th>\n",
       "      <td>540.0</td>\n",
       "      <td>291600.0</td>\n",
       "      <td>345000.0</td>\n",
       "    </tr>\n",
       "    <tr>\n",
       "      <th>12757</th>\n",
       "      <td>540.0</td>\n",
       "      <td>291600.0</td>\n",
       "      <td>425000.0</td>\n",
       "    </tr>\n",
       "    <tr>\n",
       "      <th>18508</th>\n",
       "      <td>550.0</td>\n",
       "      <td>302500.0</td>\n",
       "      <td>115000.0</td>\n",
       "    </tr>\n",
       "    <tr>\n",
       "      <th>...</th>\n",
       "      <td>...</td>\n",
       "      <td>...</td>\n",
       "      <td>...</td>\n",
       "    </tr>\n",
       "    <tr>\n",
       "      <th>12872</th>\n",
       "      <td>6980.0</td>\n",
       "      <td>48720400.0</td>\n",
       "      <td>3100000.0</td>\n",
       "    </tr>\n",
       "    <tr>\n",
       "      <th>15482</th>\n",
       "      <td>7000.0</td>\n",
       "      <td>49000000.0</td>\n",
       "      <td>3200000.0</td>\n",
       "    </tr>\n",
       "    <tr>\n",
       "      <th>7035</th>\n",
       "      <td>7050.0</td>\n",
       "      <td>49702500.0</td>\n",
       "      <td>3800000.0</td>\n",
       "    </tr>\n",
       "    <tr>\n",
       "      <th>4149</th>\n",
       "      <td>7080.0</td>\n",
       "      <td>50126400.0</td>\n",
       "      <td>4000000.0</td>\n",
       "    </tr>\n",
       "    <tr>\n",
       "      <th>7907</th>\n",
       "      <td>7100.0</td>\n",
       "      <td>50410000.0</td>\n",
       "      <td>3200000.0</td>\n",
       "    </tr>\n",
       "    <tr>\n",
       "      <th>21050</th>\n",
       "      <td>7120.0</td>\n",
       "      <td>50694400.0</td>\n",
       "      <td>900000.0</td>\n",
       "    </tr>\n",
       "    <tr>\n",
       "      <th>6501</th>\n",
       "      <td>7220.0</td>\n",
       "      <td>52128400.0</td>\n",
       "      <td>1940000.0</td>\n",
       "    </tr>\n",
       "    <tr>\n",
       "      <th>21506</th>\n",
       "      <td>7270.0</td>\n",
       "      <td>52852900.0</td>\n",
       "      <td>2238890.0</td>\n",
       "    </tr>\n",
       "    <tr>\n",
       "      <th>18594</th>\n",
       "      <td>7320.0</td>\n",
       "      <td>53582400.0</td>\n",
       "      <td>1135250.0</td>\n",
       "    </tr>\n",
       "    <tr>\n",
       "      <th>2713</th>\n",
       "      <td>7350.0</td>\n",
       "      <td>54022500.0</td>\n",
       "      <td>1110000.0</td>\n",
       "    </tr>\n",
       "    <tr>\n",
       "      <th>1315</th>\n",
       "      <td>7390.0</td>\n",
       "      <td>54612100.0</td>\n",
       "      <td>5300000.0</td>\n",
       "    </tr>\n",
       "    <tr>\n",
       "      <th>10373</th>\n",
       "      <td>7400.0</td>\n",
       "      <td>54760000.0</td>\n",
       "      <td>2983000.0</td>\n",
       "    </tr>\n",
       "    <tr>\n",
       "      <th>11871</th>\n",
       "      <td>7420.0</td>\n",
       "      <td>55056400.0</td>\n",
       "      <td>1950000.0</td>\n",
       "    </tr>\n",
       "    <tr>\n",
       "      <th>12370</th>\n",
       "      <td>7440.0</td>\n",
       "      <td>55353600.0</td>\n",
       "      <td>4208000.0</td>\n",
       "    </tr>\n",
       "    <tr>\n",
       "      <th>4024</th>\n",
       "      <td>7480.0</td>\n",
       "      <td>55950400.0</td>\n",
       "      <td>800000.0</td>\n",
       "    </tr>\n",
       "    <tr>\n",
       "      <th>14032</th>\n",
       "      <td>7620.0</td>\n",
       "      <td>58064400.0</td>\n",
       "      <td>1680000.0</td>\n",
       "    </tr>\n",
       "    <tr>\n",
       "      <th>18477</th>\n",
       "      <td>7710.0</td>\n",
       "      <td>59444100.0</td>\n",
       "      <td>3300000.0</td>\n",
       "    </tr>\n",
       "    <tr>\n",
       "      <th>16773</th>\n",
       "      <td>7730.0</td>\n",
       "      <td>59752900.0</td>\n",
       "      <td>1920000.0</td>\n",
       "    </tr>\n",
       "    <tr>\n",
       "      <th>19858</th>\n",
       "      <td>7850.0</td>\n",
       "      <td>61622500.0</td>\n",
       "      <td>2700000.0</td>\n",
       "    </tr>\n",
       "    <tr>\n",
       "      <th>13411</th>\n",
       "      <td>7880.0</td>\n",
       "      <td>62094400.0</td>\n",
       "      <td>2415000.0</td>\n",
       "    </tr>\n",
       "    <tr>\n",
       "      <th>1448</th>\n",
       "      <td>8000.0</td>\n",
       "      <td>64000000.0</td>\n",
       "      <td>5350000.0</td>\n",
       "    </tr>\n",
       "    <tr>\n",
       "      <th>1164</th>\n",
       "      <td>8010.0</td>\n",
       "      <td>64160100.0</td>\n",
       "      <td>5110800.0</td>\n",
       "    </tr>\n",
       "    <tr>\n",
       "      <th>18302</th>\n",
       "      <td>8020.0</td>\n",
       "      <td>64320400.0</td>\n",
       "      <td>3300000.0</td>\n",
       "    </tr>\n",
       "    <tr>\n",
       "      <th>14556</th>\n",
       "      <td>8670.0</td>\n",
       "      <td>75168900.0</td>\n",
       "      <td>2888000.0</td>\n",
       "    </tr>\n",
       "    <tr>\n",
       "      <th>4411</th>\n",
       "      <td>9200.0</td>\n",
       "      <td>84640000.0</td>\n",
       "      <td>5570000.0</td>\n",
       "    </tr>\n",
       "    <tr>\n",
       "      <th>8092</th>\n",
       "      <td>9640.0</td>\n",
       "      <td>92929600.0</td>\n",
       "      <td>4668000.0</td>\n",
       "    </tr>\n",
       "    <tr>\n",
       "      <th>9254</th>\n",
       "      <td>9890.0</td>\n",
       "      <td>97812100.0</td>\n",
       "      <td>6885000.0</td>\n",
       "    </tr>\n",
       "    <tr>\n",
       "      <th>3914</th>\n",
       "      <td>10040.0</td>\n",
       "      <td>100801600.0</td>\n",
       "      <td>7062500.0</td>\n",
       "    </tr>\n",
       "    <tr>\n",
       "      <th>7252</th>\n",
       "      <td>12050.0</td>\n",
       "      <td>145202500.0</td>\n",
       "      <td>7700000.0</td>\n",
       "    </tr>\n",
       "    <tr>\n",
       "      <th>12777</th>\n",
       "      <td>13540.0</td>\n",
       "      <td>183331600.0</td>\n",
       "      <td>2280000.0</td>\n",
       "    </tr>\n",
       "  </tbody>\n",
       "</table>\n",
       "<p>21613 rows × 3 columns</p>\n",
       "</div>"
      ],
      "text/plain": [
       "       power_1      power_2      price\n",
       "19452    290.0      84100.0   142000.0\n",
       "15381    370.0     136900.0   276000.0\n",
       "860      380.0     144400.0   245000.0\n",
       "18379    384.0     147456.0   265000.0\n",
       "4868     390.0     152100.0   228000.0\n",
       "21332    390.0     152100.0   245000.0\n",
       "8623     410.0     168100.0   325000.0\n",
       "11500    420.0     176400.0   229050.0\n",
       "14466    420.0     176400.0   280000.0\n",
       "465      430.0     184900.0    80000.0\n",
       "1168     440.0     193600.0   290000.0\n",
       "18052    460.0     211600.0   247000.0\n",
       "12075    470.0     220900.0   156000.0\n",
       "15248    470.0     220900.0   192500.0\n",
       "17394    480.0     230400.0   145000.0\n",
       "8133     480.0     230400.0   170000.0\n",
       "4203     490.0     240100.0   150000.0\n",
       "4651     500.0     250000.0   125000.0\n",
       "2141     520.0     270400.0    82500.0\n",
       "3223     520.0     270400.0   262000.0\n",
       "18059    520.0     270400.0   275000.0\n",
       "2930     520.0     270400.0   295000.0\n",
       "6779     520.0     270400.0   310000.0\n",
       "9641     520.0     270400.0   330000.0\n",
       "12484    530.0     280900.0   238000.0\n",
       "3582     530.0     280900.0   355000.0\n",
       "7017     530.0     280900.0   400000.0\n",
       "14450    540.0     291600.0   345000.0\n",
       "12757    540.0     291600.0   425000.0\n",
       "18508    550.0     302500.0   115000.0\n",
       "...        ...          ...        ...\n",
       "12872   6980.0   48720400.0  3100000.0\n",
       "15482   7000.0   49000000.0  3200000.0\n",
       "7035    7050.0   49702500.0  3800000.0\n",
       "4149    7080.0   50126400.0  4000000.0\n",
       "7907    7100.0   50410000.0  3200000.0\n",
       "21050   7120.0   50694400.0   900000.0\n",
       "6501    7220.0   52128400.0  1940000.0\n",
       "21506   7270.0   52852900.0  2238890.0\n",
       "18594   7320.0   53582400.0  1135250.0\n",
       "2713    7350.0   54022500.0  1110000.0\n",
       "1315    7390.0   54612100.0  5300000.0\n",
       "10373   7400.0   54760000.0  2983000.0\n",
       "11871   7420.0   55056400.0  1950000.0\n",
       "12370   7440.0   55353600.0  4208000.0\n",
       "4024    7480.0   55950400.0   800000.0\n",
       "14032   7620.0   58064400.0  1680000.0\n",
       "18477   7710.0   59444100.0  3300000.0\n",
       "16773   7730.0   59752900.0  1920000.0\n",
       "19858   7850.0   61622500.0  2700000.0\n",
       "13411   7880.0   62094400.0  2415000.0\n",
       "1448    8000.0   64000000.0  5350000.0\n",
       "1164    8010.0   64160100.0  5110800.0\n",
       "18302   8020.0   64320400.0  3300000.0\n",
       "14556   8670.0   75168900.0  2888000.0\n",
       "4411    9200.0   84640000.0  5570000.0\n",
       "8092    9640.0   92929600.0  4668000.0\n",
       "9254    9890.0   97812100.0  6885000.0\n",
       "3914   10040.0  100801600.0  7062500.0\n",
       "7252   12050.0  145202500.0  7700000.0\n",
       "12777  13540.0  183331600.0  2280000.0\n",
       "\n",
       "[21613 rows x 3 columns]"
      ]
     },
     "execution_count": 62,
     "metadata": {},
     "output_type": "execute_result"
    }
   ],
   "source": [
    "poly2_data = polynomial_dataframe(sales['sqft_living'], 2)\n",
    "poly2_data['price'] = sales['price']\n",
    "poly2_data"
   ]
  },
  {
   "cell_type": "code",
   "execution_count": 69,
   "metadata": {},
   "outputs": [
    {
     "data": {
      "text/plain": [
       "[<matplotlib.lines.Line2D at 0x1a200d30f0>,\n",
       " <matplotlib.lines.Line2D at 0x1a2018a550>]"
      ]
     },
     "execution_count": 69,
     "metadata": {},
     "output_type": "execute_result"
    },
    {
     "data": {
      "image/png": "[encoded data removed]",
      "text/plain": [
       "<Figure size 432x288 with 1 Axes>"
      ]
     },
     "metadata": {
      "needs_background": "light"
     },
     "output_type": "display_data"
    }
   ],
   "source": [
    "lin_mod2 = linear_model.LinearRegression()\n",
    "lin_mod2.fit(poly2_data[['power_1']+['power_2']], poly2_data[['price']])\n",
    "lin_mod2.predict(poly2_data[['power_1']+['power_2']].values)\n",
    "%matplotlib inline\n",
    "plt.plot(poly2_data['power_1'],poly2_data['price'],'.',\n",
    "poly2_data[['power_1']], lin_mod2.predict(poly2_data[['power_1']+['power_2']]),'-')"
   ]
  },
  {
   "cell_type": "code",
   "execution_count": 77,
   "metadata": {},
   "outputs": [
    {
     "data": {
      "text/plain": [
       "[<matplotlib.lines.Line2D at 0x1a24cb3438>,\n",
       " <matplotlib.lines.Line2D at 0x1a24cb3588>]"
      ]
     },
     "execution_count": 77,
     "metadata": {},
     "output_type": "execute_result"
    },
    {
     "data": {
      "image/png": "[encoded data removed]",
      "text/plain": [
       "<Figure size 432x288 with 1 Axes>"
      ]
     },
     "metadata": {
      "needs_background": "light"
     },
     "output_type": "display_data"
    }
   ],
   "source": [
    "poly3_data = polynomial_dataframe(sales['sqft_living'], 3)\n",
    "poly3_data['price'] = sales['price']\n",
    "poly3_data\n",
    "\n",
    "lin_mod3 = linear_model.LinearRegression()\n",
    "lin_mod3.fit(poly3_data[['power_1']+['power_2']+['power_3']], poly3_data[['price']])\n",
    "lin_mod3.predict(poly3_data[['power_1']+['power_2']+['power_3']].values)\n",
    "%matplotlib inline\n",
    "plt.plot(poly3_data['power_1'],poly3_data['price'],'.',\n",
    "poly3_data[['power_1']], lin_mod3.predict(poly3_data[['power_1']+['power_2']+['power_3']]),'-')"
   ]
  },
  {
   "cell_type": "code",
   "execution_count": 78,
   "metadata": {},
   "outputs": [
    {
     "data": {
      "text/plain": [
       "[<matplotlib.lines.Line2D at 0x1a24ce1cf8>,\n",
       " <matplotlib.lines.Line2D at 0x1a24ce1e10>]"
      ]
     },
     "execution_count": 78,
     "metadata": {},
     "output_type": "execute_result"
    },
    {
     "data": {
      "image/png": "[encoded data removed]",
      "text/plain": [
       "<Figure size 432x288 with 1 Axes>"
      ]
     },
     "metadata": {
      "needs_background": "light"
     },
     "output_type": "display_data"
    }
   ],
   "source": [
    "poly15_data = polynomial_dataframe(sales['sqft_living'], 15)\n",
    "poly15_data['price'] = sales['price']\n",
    "col = poly15_data.columns\n",
    "\n",
    "lin_mod15 = linear_model.LinearRegression()\n",
    "lin_mod15.fit(poly15_data[col], poly15_data[['price']])\n",
    "lin_mod15.predict(poly15_data[col].values)\n",
    "%matplotlib inline\n",
    "plt.plot(poly15_data['power_1'],poly15_data['price'],'.',\n",
    "poly15_data[['power_1']], lin_mod15.predict(poly15_data[col]),'-')"
   ]
  },
  {
   "cell_type": "code",
   "execution_count": 72,
   "metadata": {},
   "outputs": [],
   "source": [
    "s1 = pd.read_csv('wk3_kc_house_set_1_data.csv')\n",
    "s2 = pd.read_csv('wk3_kc_house_set_2_data.csv')\n",
    "s3 = pd.read_csv('wk3_kc_house_set_3_data.csv')\n",
    "s4 = pd.read_csv('wk3_kc_house_set_4_data.csv')"
   ]
  },
  {
   "cell_type": "code",
   "execution_count": 86,
   "metadata": {},
   "outputs": [
    {
     "data": {
      "text/plain": [
       "[<matplotlib.lines.Line2D at 0x1a25eba908>,\n",
       " <matplotlib.lines.Line2D at 0x1a25ebaa58>]"
      ]
     },
     "execution_count": 86,
     "metadata": {},
     "output_type": "execute_result"
    },
    {
     "data": {
      "image/png": "[encoded data removed]",
      "text/plain": [
       "<Figure size 432x288 with 1 Axes>"
      ]
     },
     "metadata": {
      "needs_background": "light"
     },
     "output_type": "display_data"
    }
   ],
   "source": [
    "poly15_data_s1 = polynomial_dataframe(s1['sqft_living'], 15)\n",
    "col = poly15_data_s1.columns\n",
    "poly15_data_s1['price'] = s1['price']\n",
    "\n",
    "\n",
    "lin_mod_s1 = linear_model.LinearRegression()\n",
    "lin_mod_s1.fit(poly15_data_s1[col], poly15_data_s1[['price']])\n",
    "lin_mod_s1.predict(poly15_data_s1[col].values)\n",
    "\n",
    "%matplotlib inline\n",
    "# plt.plot(poly15_data_s1['power_1'],poly15_data_s1['price'],'.',\n",
    "# poly15_data_s1[['power_1']], lin_mod_s1.predict(poly15_data[col]),'-')\n",
    "\n",
    "plt.plot(poly15_data_s1['power_1'],poly15_data_s1['price'],'.',\n",
    "poly15_data_s1[['power_1']], lin_mod_s1.predict(poly15_data_s1[col]),'-')"
   ]
  },
  {
   "cell_type": "code",
   "execution_count": 87,
   "metadata": {},
   "outputs": [
    {
     "data": {
      "text/plain": [
       "[<matplotlib.lines.Line2D at 0x1a26097828>,\n",
       " <matplotlib.lines.Line2D at 0x1a26097978>]"
      ]
     },
     "execution_count": 87,
     "metadata": {},
     "output_type": "execute_result"
    },
    {
     "data": {
      "image/png": "[encoded data removed]",
      "text/plain": [
       "<Figure size 432x288 with 1 Axes>"
      ]
     },
     "metadata": {
      "needs_background": "light"
     },
     "output_type": "display_data"
    }
   ],
   "source": [
    "poly15_data_s2 = polynomial_dataframe(s2['sqft_living'], 15)\n",
    "col = poly15_data_s2.columns\n",
    "poly15_data_s2['price'] = s2['price']\n",
    "\n",
    "\n",
    "lin_mod_s2 = linear_model.LinearRegression()\n",
    "lin_mod_s2.fit(poly15_data_s2[col], poly15_data_s2[['price']])\n",
    "lin_mod_s2.predict(poly15_data_s2[col].values)\n",
    "\n",
    "%matplotlib inline\n",
    "# plt.plot(poly15_data_s1['power_1'],poly15_data_s1['price'],'.',\n",
    "# poly15_data_s1[['power_1']], lin_mod_s1.predict(poly15_data[col]),'-')\n",
    "\n",
    "plt.plot(poly15_data_s2['power_1'],poly15_data_s2['price'],'.',\n",
    "poly15_data_s2[['power_1']], lin_mod_s2.predict(poly15_data_s2[col]),'-')"
   ]
  },
  {
   "cell_type": "code",
   "execution_count": 88,
   "metadata": {},
   "outputs": [
    {
     "data": {
      "text/plain": [
       "[<matplotlib.lines.Line2D at 0x1a262438d0>,\n",
       " <matplotlib.lines.Line2D at 0x1a26243a20>]"
      ]
     },
     "execution_count": 88,
     "metadata": {},
     "output_type": "execute_result"
    },
    {
     "data": {
      "image/png": "[encoded data removed]",
      "text/plain": [
       "<Figure size 432x288 with 1 Axes>"
      ]
     },
     "metadata": {
      "needs_background": "light"
     },
     "output_type": "display_data"
    }
   ],
   "source": [
    "poly15_data_s3 = polynomial_dataframe(s3['sqft_living'], 15)\n",
    "col = poly15_data_s3.columns\n",
    "poly15_data_s3['price'] = s3['price']\n",
    "\n",
    "\n",
    "lin_mod_s3 = linear_model.LinearRegression()\n",
    "lin_mod_s3.fit(poly15_data_s3[col], poly15_data_s3[['price']])\n",
    "lin_mod_s3.predict(poly15_data_s3[col].values)\n",
    "\n",
    "%matplotlib inline\n",
    "# plt.plot(poly15_data_s1['power_1'],poly15_data_s1['price'],'.',\n",
    "# poly15_data_s1[['power_1']], lin_mod_s1.predict(poly15_data[col]),'-')\n",
    "\n",
    "plt.plot(poly15_data_s3['power_1'],poly15_data_s3['price'],'.',\n",
    "poly15_data_s3[['power_1']], lin_mod_s3.predict(poly15_data_s3[col]),'-')"
   ]
  },
  {
   "cell_type": "code",
   "execution_count": 89,
   "metadata": {},
   "outputs": [
    {
     "data": {
      "text/plain": [
       "[<matplotlib.lines.Line2D at 0x1a264018d0>,\n",
       " <matplotlib.lines.Line2D at 0x1a26401a20>]"
      ]
     },
     "execution_count": 89,
     "metadata": {},
     "output_type": "execute_result"
    },
    {
     "data": {
      "image/png": "[encoded data removed]",
      "text/plain": [
       "<Figure size 432x288 with 1 Axes>"
      ]
     },
     "metadata": {
      "needs_background": "light"
     },
     "output_type": "display_data"
    }
   ],
   "source": [
    "poly15_data_s4 = polynomial_dataframe(s4['sqft_living'], 15)\n",
    "col = poly15_data_s4.columns\n",
    "poly15_data_s4['price'] = s4['price']\n",
    "\n",
    "\n",
    "lin_mod_s4 = linear_model.LinearRegression()\n",
    "lin_mod_s4.fit(poly15_data_s4[col], poly15_data_s4[['price']])\n",
    "lin_mod_s4.predict(poly15_data_s4[col].values)\n",
    "\n",
    "%matplotlib inline\n",
    "# plt.plot(poly15_data_s1['power_1'],poly15_data_s1['price'],'.',\n",
    "# poly15_data_s1[['power_1']], lin_mod_s1.predict(poly15_data[col]),'-')\n",
    "\n",
    "plt.plot(poly15_data_s4['power_1'],poly15_data_s4['price'],'.',\n",
    "poly15_data_s4[['power_1']], lin_mod_s4.predict(poly15_data_s4[col]),'-')"
   ]
  },
  {
   "cell_type": "code",
   "execution_count": 90,
   "metadata": {},
   "outputs": [],
   "source": [
    "train = pd.read_csv('wk3_kc_house_train_data.csv')\n",
    "test = pd.read_csv('wk3_kc_house_test_data.csv')\n",
    "valid = pd.read_csv('wk3_kc_house_valid_data.csv')"
   ]
  },
  {
   "cell_type": "code",
   "execution_count": 92,
   "metadata": {},
   "outputs": [
    {
     "name": "stdout",
     "output_type": "stream",
     "text": [
      "price    6.290979e+14\n",
      "dtype: float64\n",
      "price    6.239551e+14\n",
      "dtype: float64\n",
      "price    6.258203e+14\n",
      "dtype: float64\n",
      "price    6.299873e+14\n",
      "dtype: float64\n",
      "price    6.233784e+14\n",
      "dtype: float64\n",
      "price    6.232394e+14\n",
      "dtype: float64\n",
      "price    6.231637e+14\n",
      "dtype: float64\n",
      "price    6.234083e+14\n",
      "dtype: float64\n",
      "price    6.233655e+14\n",
      "dtype: float64\n",
      "price    6.234078e+14\n",
      "dtype: float64\n",
      "price    6.235298e+14\n",
      "dtype: float64\n",
      "price    6.233257e+14\n",
      "dtype: float64\n",
      "price    6.231799e+14\n",
      "dtype: float64\n",
      "price    6.231767e+14\n",
      "dtype: float64\n",
      "price    6.233669e+14\n",
      "dtype: float64\n"
     ]
    }
   ],
   "source": [
    "for i in range(1,16):  \n",
    "    data = polynomial_dataframe(train['sqft_living'],i)\n",
    "    val = polynomial_dataframe(valid['sqft_living'],i)\n",
    "    col = data.columns\n",
    "    data['price'] = train['price']\n",
    "    val['price'] = valid['price']\n",
    "    model=linear_model.LinearRegression()\n",
    "    model.fit(data[col],data[['price']])\n",
    "    print(((model.predict(val[col])-valid[['price']])**2).sum())"
   ]
  },
  {
   "cell_type": "code",
   "execution_count": 93,
   "metadata": {},
   "outputs": [
    {
     "name": "stdout",
     "output_type": "stream",
     "text": [
      "price    6.290979e+14\n",
      "dtype: float64\n",
      "price    6.239551e+14\n",
      "dtype: float64\n",
      "price    6.258203e+14\n",
      "dtype: float64\n",
      "price    6.299873e+14\n",
      "dtype: float64\n",
      "price    6.233784e+14\n",
      "dtype: float64\n",
      "price    6.232394e+14\n",
      "dtype: float64\n",
      "price    6.231637e+14\n",
      "dtype: float64\n",
      "price    6.234083e+14\n",
      "dtype: float64\n",
      "price    6.233655e+14\n",
      "dtype: float64\n",
      "price    6.234078e+14\n",
      "dtype: float64\n",
      "price    6.235298e+14\n",
      "dtype: float64\n",
      "price    6.233257e+14\n",
      "dtype: float64\n",
      "price    6.231799e+14\n",
      "dtype: float64\n",
      "price    6.231767e+14\n",
      "dtype: float64\n",
      "price    6.233669e+14\n",
      "dtype: float64\n"
     ]
    }
   ],
   "source": [
    "for i in range(1,16):\n",
    "    data = polynomial_dataframe(train['sqft_living'],i)\n",
    "    val = polynomial_dataframe(valid['sqft_living'],i)\n",
    "    col = data.columns\n",
    "    coll =val.columns\n",
    "    data['price'] = train['price']\n",
    "    val['price'] = valid['price']\n",
    "    model=linear_model.LinearRegression()\n",
    "    model.fit(data[col],data[['price']])\n",
    "    print(((model.predict(val[coll])-valid[['price']])**2).sum())"
   ]
  },
  {
   "cell_type": "code",
   "execution_count": null,
   "metadata": {},
   "outputs": [],
   "source": []
  }
 ],
 "metadata": {
  "kernelspec": {
   "display_name": "Python 3",
   "language": "python",
   "name": "python3"
  },
  "language_info": {
   "codemirror_mode": {
    "name": "ipython",
    "version": 3
   },
   "file_extension": ".py",
   "mimetype": "text/x-python",
   "name": "python",
   "nbconvert_exporter": "python",
   "pygments_lexer": "ipython3",
   "version": "3.7.0"
  }
 },
 "nbformat": 4,
 "nbformat_minor": 2
}
