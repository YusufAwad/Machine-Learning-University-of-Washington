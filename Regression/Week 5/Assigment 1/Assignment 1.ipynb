{
 "cells": [
  {
   "cell_type": "code",
   "execution_count": 18,
   "metadata": {},
   "outputs": [],
   "source": [
    "import pandas as pd \n",
    "import sklearn.linear_model\n",
    "from math import log, sqrt\n",
    "import numpy as np\n",
    "import sys"
   ]
  },
  {
   "cell_type": "code",
   "execution_count": 4,
   "metadata": {},
   "outputs": [],
   "source": [
    "dtype_dict = {'bathrooms':float, 'waterfront':int, 'sqft_above':int, 'sqft_living15':float, 'grade':int, 'yr_renovated':int, 'price':float, 'bedrooms':float, 'zipcode':str, 'long':float, 'sqft_lot15':float, 'sqft_living':float, 'floors':float, 'condition':int, 'lat':float, 'date':str, 'sqft_basement':int, 'yr_built':int, 'id':str, 'sqft_lot':int, 'view':int}\n",
    "\n",
    "sales = pd.read_csv('../kc_house_data.csv', dtype=dtype_dict)"
   ]
  },
  {
   "cell_type": "code",
   "execution_count": 5,
   "metadata": {},
   "outputs": [],
   "source": [
    "sales['sqft_living_sqrt'] = sales['sqft_living'].apply(sqrt)\n",
    "sales['sqft_lot_sqrt'] = sales['sqft_lot'].apply(sqrt)\n",
    "sales['bedrooms_square'] = sales['bedrooms']*sales['bedrooms']\n",
    "sales['floors_square'] = sales['floors']*sales['floors']"
   ]
  },
  {
   "cell_type": "code",
   "execution_count": 6,
   "metadata": {},
   "outputs": [
    {
     "data": {
      "text/plain": [
       "Lasso(alpha=500.0, copy_X=True, fit_intercept=True, max_iter=1000,\n",
       "      normalize=True, positive=False, precompute=False, random_state=None,\n",
       "      selection='cyclic', tol=0.0001, warm_start=False)"
      ]
     },
     "execution_count": 6,
     "metadata": {},
     "output_type": "execute_result"
    }
   ],
   "source": [
    "all_features = ['bedrooms', 'bedrooms_square',\n",
    "            'bathrooms',\n",
    "            'sqft_living', 'sqft_living_sqrt',\n",
    "            'sqft_lot', 'sqft_lot_sqrt',\n",
    "            'floors', 'floors_square',\n",
    "            'waterfront', 'view', 'condition', 'grade',\n",
    "            'sqft_above',\n",
    "            'sqft_basement',\n",
    "            'yr_built', 'yr_renovated']\n",
    "\n",
    "model_all = linear_model.Lasso(alpha=5e2, normalize=True) # set parameters\n",
    "model_all.fit(sales[all_features], sales['price']) # learn weights"
   ]
  },
  {
   "cell_type": "code",
   "execution_count": 9,
   "metadata": {},
   "outputs": [
    {
     "data": {
      "text/plain": [
       "array([    0.        ,     0.        ,     0.        ,   134.43931396,\n",
       "           0.        ,     0.        ,     0.        ,     0.        ,\n",
       "           0.        ,     0.        , 24750.00458561,     0.        ,\n",
       "       61749.10309071,     0.        ,     0.        ,    -0.        ,\n",
       "           0.        ])"
      ]
     },
     "execution_count": 9,
     "metadata": {},
     "output_type": "execute_result"
    }
   ],
   "source": [
    "model_all.coef_"
   ]
  },
  {
   "cell_type": "code",
   "execution_count": 10,
   "metadata": {},
   "outputs": [],
   "source": [
    "testing = pd.read_csv('../wk3_kc_house_test_data.csv', dtype=dtype_dict)\n",
    "training = pd.read_csv('../wk3_kc_house_train_data.csv', dtype=dtype_dict)\n",
    "validation = pd.read_csv('../wk3_kc_house_valid_data.csv', dtype=dtype_dict)"
   ]
  },
  {
   "cell_type": "code",
   "execution_count": 11,
   "metadata": {},
   "outputs": [],
   "source": [
    "testing['sqft_living_sqrt'] = testing['sqft_living'].apply(sqrt)\n",
    "testing['sqft_lot_sqrt'] = testing['sqft_lot'].apply(sqrt)\n",
    "testing['bedrooms_square'] = testing['bedrooms']*testing['bedrooms']\n",
    "testing['floors_square'] = testing['floors']*testing['floors']\n",
    "\n",
    "training['sqft_living_sqrt'] = training['sqft_living'].apply(sqrt)\n",
    "training['sqft_lot_sqrt'] = training['sqft_lot'].apply(sqrt)\n",
    "training['bedrooms_square'] = training['bedrooms']*training['bedrooms']\n",
    "training['floors_square'] = training['floors']*training['floors']\n",
    "\n",
    "validation['sqft_living_sqrt'] = validation['sqft_living'].apply(sqrt)\n",
    "validation['sqft_lot_sqrt'] = validation['sqft_lot'].apply(sqrt)\n",
    "validation['bedrooms_square'] = validation['bedrooms']*validation['bedrooms']\n",
    "validation['floors_square'] = validation['floors']*validation['floors']"
   ]
  },
  {
   "cell_type": "code",
   "execution_count": 21,
   "metadata": {},
   "outputs": [
    {
     "name": "stdout",
     "output_type": "stream",
     "text": [
      "RSS:  398213327300134.9  for L1:  10.0\n",
      "RSS:  399041900253346.9  for L1:  31.622776601683793\n",
      "RSS:  429791604072559.6  for L1:  100.0\n",
      "RSS:  463739831045121.1  for L1:  316.22776601683796\n",
      "RSS:  645898733633800.6  for L1:  1000.0\n",
      "RSS:  1222506859427163.0  for L1:  3162.2776601683795\n",
      "RSS:  1222506859427163.0  for L1:  10000.0\n",
      "RSS:  1222506859427163.0  for L1:  31622.776601683792\n",
      "RSS:  1222506859427163.0  for L1:  100000.0\n",
      "RSS:  1222506859427163.0  for L1:  316227.7660168379\n",
      "RSS:  1222506859427163.0  for L1:  1000000.0\n",
      "RSS:  1222506859427163.0  for L1:  3162277.6601683795\n",
      "RSS:  1222506859427163.0  for L1:  10000000.0\n",
      "\n",
      "Minimum RSS: 398213327300134.9  for L1:  10.0\n"
     ]
    }
   ],
   "source": [
    "minRSS = sys.maxsize\n",
    "bestL1 = 0\n",
    "\n",
    "for i in np.logspace(1, 7, num=13):\n",
    "    model = linear_model.Lasso(alpha = i, normalize=True)\n",
    "    model.fit(training[all_features], training['price'])\n",
    "    \n",
    "    RSS = ((model.predict(validation[all_features]) - validation.price) ** 2).sum()\n",
    "    print (\"RSS: \", RSS, \" for L1: \", i)\n",
    "    \n",
    "    if RSS < minRSS:\n",
    "        minRSS = RSS\n",
    "        bestL1 = i\n",
    "\n",
    "print ('\\nMinimum RSS:', minRSS, ' for L1: ', bestL1)"
   ]
  },
  {
   "cell_type": "code",
   "execution_count": 22,
   "metadata": {},
   "outputs": [
    {
     "data": {
      "text/plain": [
       "Lasso(alpha=10.0, copy_X=True, fit_intercept=True, max_iter=1000,\n",
       "      normalize=True, positive=False, precompute=False, random_state=None,\n",
       "      selection='cyclic', tol=0.0001, warm_start=False)"
      ]
     },
     "execution_count": 22,
     "metadata": {},
     "output_type": "execute_result"
    }
   ],
   "source": [
    "model = linear_model.Lasso(alpha=bestL1, normalize=True)\n",
    "model.fit(training[all_features], training['price'])"
   ]
  },
  {
   "cell_type": "code",
   "execution_count": 23,
   "metadata": {},
   "outputs": [
    {
     "name": "stdout",
     "output_type": "stream",
     "text": [
      "[-1.61445628e+04  3.73245384e+02  5.08412433e+04  6.17853560e+02\n",
      " -4.44113549e+04  7.85623065e-01 -7.01194765e+02 -0.00000000e+00\n",
      "  5.01420046e+03  6.19488752e+05  3.80418557e+04  2.49987718e+04\n",
      "  1.28716235e+05  0.00000000e+00  0.00000000e+00 -3.29383118e+03\n",
      "  1.00573209e+01]\n"
     ]
    }
   ],
   "source": [
    "print (model.coef_)"
   ]
  },
  {
   "cell_type": "code",
   "execution_count": 24,
   "metadata": {},
   "outputs": [
    {
     "name": "stdout",
     "output_type": "stream",
     "text": [
      "6630155.66862836\n"
     ]
    }
   ],
   "source": [
    "print (model.intercept_)"
   ]
  },
  {
   "cell_type": "code",
   "execution_count": 25,
   "metadata": {},
   "outputs": [
    {
     "data": {
      "text/plain": [
       "15"
      ]
     },
     "execution_count": 25,
     "metadata": {},
     "output_type": "execute_result"
    }
   ],
   "source": [
    "np.count_nonzero(model.coef_) + np.count_nonzero(model.intercept_)"
   ]
  },
  {
   "cell_type": "code",
   "execution_count": 26,
   "metadata": {},
   "outputs": [
    {
     "name": "stdout",
     "output_type": "stream",
     "text": [
      "[   10.            14.38449888    20.69138081    29.76351442\n",
      "    42.81332399    61.58482111    88.58667904   127.42749857\n",
      "   183.29807108   263.66508987   379.26901907   545.55947812\n",
      "   784.75997035  1128.83789168  1623.77673919  2335.72146909\n",
      "  3359.81828628  4832.93023857  6951.92796178 10000.        ]\n"
     ]
    }
   ],
   "source": [
    "max_nonzeros = 7\n",
    "L1_range = np.logspace(1, 4, num=20)\n",
    "print (L1_range)"
   ]
  },
  {
   "cell_type": "code",
   "execution_count": 27,
   "metadata": {},
   "outputs": [
    {
     "name": "stdout",
     "output_type": "stream",
     "text": [
      "l1_penalty_min:  127.42749857031335\n",
      "l1_penalty_max:  263.6650898730358\n"
     ]
    }
   ],
   "source": [
    "l1_penalty_min = L1_range[0]\n",
    "l1_penalty_max = L1_range[19]\n",
    "\n",
    "for L1 in L1_range:\n",
    "    model = linear_model.Lasso(alpha=L1, normalize=True)\n",
    "    model.fit(training[all_features], training['price']) \n",
    "    \n",
    "    nonZeroes = np.count_nonzero(model.coef_) + np.count_nonzero(model.intercept_)\n",
    "    \n",
    "    if (nonZeroes > max_nonzeros) and (L1 > l1_penalty_min) :\n",
    "        l1_penalty_min = L1\n",
    "    \n",
    "    \n",
    "    if (nonZeroes < max_nonzeros) and (L1 < l1_penalty_max):\n",
    "        l1_penalty_max = L1\n",
    "    \n",
    "print ('l1_penalty_min: ', l1_penalty_min)\n",
    "print ('l1_penalty_max: ', l1_penalty_max)"
   ]
  },
  {
   "cell_type": "code",
   "execution_count": 28,
   "metadata": {},
   "outputs": [
    {
     "name": "stdout",
     "output_type": "stream",
     "text": [
      "[127.42749857 134.59789811 141.76829765 148.9386972  156.10909674\n",
      " 163.27949628 170.44989582 177.62029537 184.79069491 191.96109445\n",
      " 199.13149399 206.30189354 213.47229308 220.64269262 227.81309216\n",
      " 234.9834917  242.15389125 249.32429079 256.49469033 263.66508987]\n"
     ]
    }
   ],
   "source": [
    "L1_narrow_interval = np.linspace(l1_penalty_min,l1_penalty_max,20)\n",
    "print (L1_narrow_interval)"
   ]
  },
  {
   "cell_type": "code",
   "execution_count": 29,
   "metadata": {},
   "outputs": [
    {
     "name": "stdout",
     "output_type": "stream",
     "text": [
      "RSS:  439071925352512.9  for L1:  127.42749857031335\n",
      "RSS:  441128710027315.1  for L1:  134.5978981125619\n",
      "RSS:  442825187166451.4  for L1:  141.76829765481045\n",
      "RSS:  443877431690778.6  for L1:  148.938697197059\n",
      "RSS:  444981125900466.7  for L1:  156.10909673930755\n",
      "RSS:  446136908849758.06  for L1:  163.2794962815561\n",
      "RSS:  447344709605348.5  for L1:  170.44989582380464\n",
      "RSS:  448566985859169.9  for L1:  177.6202953660532\n",
      "RSS:  449776911889217.56  for L1:  184.79069490830176\n",
      "RSS:  450854996344142.1  for L1:  191.96109445055032\n",
      "RSS:  451974123723515.1  for L1:  199.13149399279888\n",
      "RSS:  453134295270741.0  for L1:  206.3018935350474\n",
      "RSS:  454335490310594.25  for L1:  213.47229307729594\n",
      "RSS:  455577721405391.25  for L1:  220.6426926195445\n",
      "RSS:  456860991130727.4  for L1:  227.81309216179307\n",
      "RSS:  458185301192966.94  for L1:  234.98349170404163\n",
      "RSS:  459550648291129.0  for L1:  242.1538912462902\n",
      "RSS:  460956444625907.9  for L1:  249.32429078853872\n",
      "RSS:  462403851116601.44  for L1:  256.49469033078725\n",
      "RSS:  463892295836626.0  for L1:  263.6650898730358\n",
      "\n",
      "Minimum RSS: 439071925352512.9  for L1:  127.42749857031335\n"
     ]
    }
   ],
   "source": [
    "minRSS = sys.maxsize\n",
    "bestL1 = 0\n",
    "\n",
    "for L1 in L1_narrow_interval:\n",
    "    model = linear_model.Lasso(alpha=L1, normalize=True)\n",
    "    model.fit(validation[all_features], validation['price'])\n",
    "   \n",
    "    RSS = ((model.predict(validation[all_features]) - validation.price) ** 2).sum()\n",
    "    print (\"RSS: \", RSS, \" for L1: \", L1)\n",
    "     \n",
    "    if RSS < minRSS:\n",
    "        minRSS = RSS\n",
    "        bestL1 = L1\n",
    "        \n",
    "print ('\\nMinimum RSS:', minRSS, ' for L1: ', bestL1)"
   ]
  },
  {
   "cell_type": "code",
   "execution_count": 30,
   "metadata": {},
   "outputs": [
    {
     "name": "stdout",
     "output_type": "stream",
     "text": [
      "['bedrooms', 'bedrooms_square', 'bathrooms', 'sqft_living', 'sqft_living_sqrt', 'sqft_lot', 'sqft_lot_sqrt', 'floors', 'floors_square', 'waterfront', 'view', 'condition', 'grade', 'sqft_above', 'sqft_basement', 'yr_built', 'yr_renovated']\n",
      "\n",
      "[-3.29055642e+03 -0.00000000e+00  1.18432899e+04  1.44136981e+02\n",
      "  0.00000000e+00 -0.00000000e+00 -2.74611191e+01  0.00000000e+00\n",
      "  0.00000000e+00  4.70965287e+05  4.93452902e+04  0.00000000e+00\n",
      "  1.20591515e+05  0.00000000e+00  0.00000000e+00 -2.50635813e+03\n",
      "  4.18993990e+00]\n",
      "\n",
      "4230438.4260399155\n"
     ]
    }
   ],
   "source": [
    "model = linear_model.Lasso(alpha=bestL1, normalize=True)\n",
    "model.fit(validation[all_features], validation['price']) \n",
    "\n",
    "print (all_features)\n",
    "print ()\n",
    "print (model.coef_)\n",
    "print ()\n",
    "print (model.intercept_)"
   ]
  },
  {
   "cell_type": "code",
   "execution_count": null,
   "metadata": {},
   "outputs": [],
   "source": []
  }
 ],
 "metadata": {
  "kernelspec": {
   "display_name": "Python 3",
   "language": "python",
   "name": "python3"
  },
  "language_info": {
   "codemirror_mode": {
    "name": "ipython",
    "version": 3
   },
   "file_extension": ".py",
   "mimetype": "text/x-python",
   "name": "python",
   "nbconvert_exporter": "python",
   "pygments_lexer": "ipython3",
   "version": "3.7.0"
  }
 },
 "nbformat": 4,
 "nbformat_minor": 2
}
